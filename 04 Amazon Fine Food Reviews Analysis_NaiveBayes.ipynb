{
 "cells": [
  {
   "cell_type": "markdown",
   "metadata": {
    "colab_type": "text",
    "id": "UIn1GsFNJkjH"
   },
   "source": [
    "# Amazon Fine Food Reviews Analysis\n",
    "\n",
    "\n",
    "Data Source: https://www.kaggle.com/snap/amazon-fine-food-reviews <br>\n",
    "\n",
    "EDA: https://nycdatascience.com/blog/student-works/amazon-fine-foods-visualization/\n",
    "\n",
    "\n",
    "The Amazon Fine Food Reviews dataset consists of reviews of fine foods from Amazon.<br>\n",
    "\n",
    "Number of reviews: 568,454<br>\n",
    "Number of users: 256,059<br>\n",
    "Number of products: 74,258<br>\n",
    "Timespan: Oct 1999 - Oct 2012<br>\n",
    "Number of Attributes/Columns in data: 10 \n",
    "\n",
    "Attribute Information:\n",
    "\n",
    "1. Id\n",
    "2. ProductId - unique identifier for the product\n",
    "3. UserId - unqiue identifier for the user\n",
    "4. ProfileName\n",
    "5. HelpfulnessNumerator - number of users who found the review helpful\n",
    "6. HelpfulnessDenominator - number of users who indicated whether they found the review helpful or not\n",
    "7. Score - rating between 1 and 5\n",
    "8. Time - timestamp for the review\n",
    "9. Summary - brief summary of the review\n",
    "10. Text - text of the review\n",
    "\n",
    "\n",
    "#### Objective:\n",
    "Given a review, determine whether the review is positive (rating of 4 or 5) or negative (rating of 1 or 2).\n",
    "\n",
    "<br>\n",
    "[Q] How to determine if a review is positive or negative?<br>\n",
    "<br> \n",
    "[Ans] We could use Score/Rating. A rating of 4 or 5 can be cosnidered as a positive review. A rating of 1 or 2 can be considered as negative one. A review of rating 3 is considered nuetral and such reviews are ignored from our analysis. This is an approximate and proxy way of determining the polarity (positivity/negativity) of a review.\n",
    "\n",
    "\n"
   ]
  },
  {
   "cell_type": "markdown",
   "metadata": {
    "colab_type": "text",
    "id": "5Uf26aoLJkjJ"
   },
   "source": [
    "# [1]. Reading Data"
   ]
  },
  {
   "cell_type": "markdown",
   "metadata": {
    "colab_type": "text",
    "id": "yo-LaJg3JkjK"
   },
   "source": [
    "## [1.1] Loading the data\n",
    "\n",
    "The dataset is available in two forms\n",
    "1. .csv file\n",
    "2. SQLite Database\n",
    "\n",
    "In order to load the data, We have used the SQLITE dataset as it is easier to query the data and visualise the data efficiently.\n",
    "<br> \n",
    "\n",
    "Here as we only want to get the global sentiment of the recommendations (positive or negative), we will purposefully ignore all Scores equal to 3. If the score is above 3, then the recommendation wil be set to \"positive\". Otherwise, it will be set to \"negative\"."
   ]
  },
  {
   "cell_type": "code",
   "execution_count": 0,
   "metadata": {
    "colab": {},
    "colab_type": "code",
    "id": "dLYq3BkfJkjL"
   },
   "outputs": [],
   "source": [
    "%matplotlib inline\n",
    "import warnings\n",
    "warnings.filterwarnings(\"ignore\")\n",
    "\n",
    "\n",
    "import sqlite3\n",
    "import pandas as pd\n",
    "import numpy as np\n",
    "import nltk\n",
    "import string\n",
    "import matplotlib.pyplot as plt\n",
    "import seaborn as sns\n",
    "from sklearn.feature_extraction.text import TfidfTransformer\n",
    "from sklearn.feature_extraction.text import TfidfVectorizer\n",
    "\n",
    "from sklearn.feature_extraction.text import CountVectorizer\n",
    "from sklearn.metrics import confusion_matrix\n",
    "from sklearn import metrics\n",
    "from sklearn.metrics import roc_curve, auc\n",
    "from nltk.stem.porter import PorterStemmer\n",
    "\n",
    "import re\n",
    "# Tutorial about Python regular expressions: https://pymotw.com/2/re/\n",
    "import string\n",
    "from nltk.corpus import stopwords\n",
    "from nltk.stem import PorterStemmer\n",
    "from nltk.stem.wordnet import WordNetLemmatizer\n",
    "\n",
    "from gensim.models import Word2Vec\n",
    "from gensim.models import KeyedVectors\n",
    "import pickle\n",
    "\n",
    "from tqdm import tqdm\n",
    "import os"
   ]
  },
  {
   "cell_type": "code",
   "execution_count": 0,
   "metadata": {
    "colab": {},
    "colab_type": "code",
    "id": "rXVxnx_NJkjO",
    "outputId": "98628980-4d6e-4c53-913f-2d207932d2d0"
   },
   "outputs": [
    {
     "name": "stdout",
     "output_type": "stream",
     "text": [
      "Number of data points in our data (5000, 10)\n"
     ]
    },
    {
     "data": {
      "text/html": [
       "<div>\n",
       "<style scoped>\n",
       "    .dataframe tbody tr th:only-of-type {\n",
       "        vertical-align: middle;\n",
       "    }\n",
       "\n",
       "    .dataframe tbody tr th {\n",
       "        vertical-align: top;\n",
       "    }\n",
       "\n",
       "    .dataframe thead th {\n",
       "        text-align: right;\n",
       "    }\n",
       "</style>\n",
       "<table border=\"1\" class=\"dataframe\">\n",
       "  <thead>\n",
       "    <tr style=\"text-align: right;\">\n",
       "      <th></th>\n",
       "      <th>Id</th>\n",
       "      <th>ProductId</th>\n",
       "      <th>UserId</th>\n",
       "      <th>ProfileName</th>\n",
       "      <th>HelpfulnessNumerator</th>\n",
       "      <th>HelpfulnessDenominator</th>\n",
       "      <th>Score</th>\n",
       "      <th>Time</th>\n",
       "      <th>Summary</th>\n",
       "      <th>Text</th>\n",
       "    </tr>\n",
       "  </thead>\n",
       "  <tbody>\n",
       "    <tr>\n",
       "      <th>0</th>\n",
       "      <td>1</td>\n",
       "      <td>B001E4KFG0</td>\n",
       "      <td>A3SGXH7AUHU8GW</td>\n",
       "      <td>delmartian</td>\n",
       "      <td>1</td>\n",
       "      <td>1</td>\n",
       "      <td>1</td>\n",
       "      <td>1303862400</td>\n",
       "      <td>Good Quality Dog Food</td>\n",
       "      <td>I have bought several of the Vitality canned d...</td>\n",
       "    </tr>\n",
       "    <tr>\n",
       "      <th>1</th>\n",
       "      <td>2</td>\n",
       "      <td>B00813GRG4</td>\n",
       "      <td>A1D87F6ZCVE5NK</td>\n",
       "      <td>dll pa</td>\n",
       "      <td>0</td>\n",
       "      <td>0</td>\n",
       "      <td>0</td>\n",
       "      <td>1346976000</td>\n",
       "      <td>Not as Advertised</td>\n",
       "      <td>Product arrived labeled as Jumbo Salted Peanut...</td>\n",
       "    </tr>\n",
       "    <tr>\n",
       "      <th>2</th>\n",
       "      <td>3</td>\n",
       "      <td>B000LQOCH0</td>\n",
       "      <td>ABXLMWJIXXAIN</td>\n",
       "      <td>Natalia Corres \"Natalia Corres\"</td>\n",
       "      <td>1</td>\n",
       "      <td>1</td>\n",
       "      <td>1</td>\n",
       "      <td>1219017600</td>\n",
       "      <td>\"Delight\" says it all</td>\n",
       "      <td>This is a confection that has been around a fe...</td>\n",
       "    </tr>\n",
       "  </tbody>\n",
       "</table>\n",
       "</div>"
      ],
      "text/plain": [
       "   Id   ProductId          UserId                      ProfileName  \\\n",
       "0   1  B001E4KFG0  A3SGXH7AUHU8GW                       delmartian   \n",
       "1   2  B00813GRG4  A1D87F6ZCVE5NK                           dll pa   \n",
       "2   3  B000LQOCH0   ABXLMWJIXXAIN  Natalia Corres \"Natalia Corres\"   \n",
       "\n",
       "   HelpfulnessNumerator  HelpfulnessDenominator  Score        Time  \\\n",
       "0                     1                       1      1  1303862400   \n",
       "1                     0                       0      0  1346976000   \n",
       "2                     1                       1      1  1219017600   \n",
       "\n",
       "                 Summary                                               Text  \n",
       "0  Good Quality Dog Food  I have bought several of the Vitality canned d...  \n",
       "1      Not as Advertised  Product arrived labeled as Jumbo Salted Peanut...  \n",
       "2  \"Delight\" says it all  This is a confection that has been around a fe...  "
      ]
     },
     "execution_count": 2,
     "metadata": {
      "tags": []
     },
     "output_type": "execute_result"
    }
   ],
   "source": [
    "# using SQLite Table to read data.\n",
    "con = sqlite3.connect('database.sqlite') \n",
    "\n",
    "# filtering only positive and negative reviews i.e. \n",
    "# not taking into consideration those reviews with Score=3\n",
    "# SELECT * FROM Reviews WHERE Score != 3 LIMIT 500000, will give top 500000 data points\n",
    "# you can change the number to any other number based on your computing power\n",
    "\n",
    "# filtered_data = pd.read_sql_query(\"\"\" SELECT * FROM Reviews WHERE Score != 3 LIMIT 500000\"\"\", con) \n",
    "# for tsne assignment you can take 5k data points\n",
    "\n",
    "filtered_data = pd.read_sql_query(\"\"\" SELECT * FROM Reviews WHERE Score != 3 LIMIT 5000\"\"\", con) \n",
    "\n",
    "# Give reviews with Score>3 a positive rating(1), and reviews with a score<3 a negative rating(0).\n",
    "def partition(x):\n",
    "    if x < 3:\n",
    "        return 0\n",
    "    return 1\n",
    "\n",
    "#changing reviews with score less than 3 to be positive and vice-versa\n",
    "actualScore = filtered_data['Score']\n",
    "positiveNegative = actualScore.map(partition) \n",
    "filtered_data['Score'] = positiveNegative\n",
    "print(\"Number of data points in our data\", filtered_data.shape)\n",
    "filtered_data.head(3)"
   ]
  },
  {
   "cell_type": "code",
   "execution_count": 0,
   "metadata": {
    "colab": {},
    "colab_type": "code",
    "id": "ZLasp3QxJkjS"
   },
   "outputs": [],
   "source": [
    "display = pd.read_sql_query(\"\"\"\n",
    "SELECT UserId, ProductId, ProfileName, Time, Score, Text, COUNT(*)\n",
    "FROM Reviews\n",
    "GROUP BY UserId\n",
    "HAVING COUNT(*)>1\n",
    "\"\"\", con)"
   ]
  },
  {
   "cell_type": "code",
   "execution_count": 0,
   "metadata": {
    "colab": {},
    "colab_type": "code",
    "id": "pHzk_lUkJkjW",
    "outputId": "3461f626-dc72-4b0d-af37-c3625e7e81b2",
    "scrolled": true
   },
   "outputs": [
    {
     "name": "stdout",
     "output_type": "stream",
     "text": [
      "(80668, 7)\n"
     ]
    },
    {
     "data": {
      "text/html": [
       "<div>\n",
       "<style scoped>\n",
       "    .dataframe tbody tr th:only-of-type {\n",
       "        vertical-align: middle;\n",
       "    }\n",
       "\n",
       "    .dataframe tbody tr th {\n",
       "        vertical-align: top;\n",
       "    }\n",
       "\n",
       "    .dataframe thead th {\n",
       "        text-align: right;\n",
       "    }\n",
       "</style>\n",
       "<table border=\"1\" class=\"dataframe\">\n",
       "  <thead>\n",
       "    <tr style=\"text-align: right;\">\n",
       "      <th></th>\n",
       "      <th>UserId</th>\n",
       "      <th>ProductId</th>\n",
       "      <th>ProfileName</th>\n",
       "      <th>Time</th>\n",
       "      <th>Score</th>\n",
       "      <th>Text</th>\n",
       "      <th>COUNT(*)</th>\n",
       "    </tr>\n",
       "  </thead>\n",
       "  <tbody>\n",
       "    <tr>\n",
       "      <th>0</th>\n",
       "      <td>#oc-R115TNMSPFT9I7</td>\n",
       "      <td>B007Y59HVM</td>\n",
       "      <td>Breyton</td>\n",
       "      <td>1331510400</td>\n",
       "      <td>2</td>\n",
       "      <td>Overall its just OK when considering the price...</td>\n",
       "      <td>2</td>\n",
       "    </tr>\n",
       "    <tr>\n",
       "      <th>1</th>\n",
       "      <td>#oc-R11D9D7SHXIJB9</td>\n",
       "      <td>B005HG9ET0</td>\n",
       "      <td>Louis E. Emory \"hoppy\"</td>\n",
       "      <td>1342396800</td>\n",
       "      <td>5</td>\n",
       "      <td>My wife has recurring extreme muscle spasms, u...</td>\n",
       "      <td>3</td>\n",
       "    </tr>\n",
       "    <tr>\n",
       "      <th>2</th>\n",
       "      <td>#oc-R11DNU2NBKQ23Z</td>\n",
       "      <td>B007Y59HVM</td>\n",
       "      <td>Kim Cieszykowski</td>\n",
       "      <td>1348531200</td>\n",
       "      <td>1</td>\n",
       "      <td>This coffee is horrible and unfortunately not ...</td>\n",
       "      <td>2</td>\n",
       "    </tr>\n",
       "    <tr>\n",
       "      <th>3</th>\n",
       "      <td>#oc-R11O5J5ZVQE25C</td>\n",
       "      <td>B005HG9ET0</td>\n",
       "      <td>Penguin Chick</td>\n",
       "      <td>1346889600</td>\n",
       "      <td>5</td>\n",
       "      <td>This will be the bottle that you grab from the...</td>\n",
       "      <td>3</td>\n",
       "    </tr>\n",
       "    <tr>\n",
       "      <th>4</th>\n",
       "      <td>#oc-R12KPBODL2B5ZD</td>\n",
       "      <td>B007OSBE1U</td>\n",
       "      <td>Christopher P. Presta</td>\n",
       "      <td>1348617600</td>\n",
       "      <td>1</td>\n",
       "      <td>I didnt like this coffee. Instead of telling y...</td>\n",
       "      <td>2</td>\n",
       "    </tr>\n",
       "  </tbody>\n",
       "</table>\n",
       "</div>"
      ],
      "text/plain": [
       "               UserId   ProductId             ProfileName        Time  Score  \\\n",
       "0  #oc-R115TNMSPFT9I7  B007Y59HVM                 Breyton  1331510400      2   \n",
       "1  #oc-R11D9D7SHXIJB9  B005HG9ET0  Louis E. Emory \"hoppy\"  1342396800      5   \n",
       "2  #oc-R11DNU2NBKQ23Z  B007Y59HVM        Kim Cieszykowski  1348531200      1   \n",
       "3  #oc-R11O5J5ZVQE25C  B005HG9ET0           Penguin Chick  1346889600      5   \n",
       "4  #oc-R12KPBODL2B5ZD  B007OSBE1U   Christopher P. Presta  1348617600      1   \n",
       "\n",
       "                                                Text  COUNT(*)  \n",
       "0  Overall its just OK when considering the price...         2  \n",
       "1  My wife has recurring extreme muscle spasms, u...         3  \n",
       "2  This coffee is horrible and unfortunately not ...         2  \n",
       "3  This will be the bottle that you grab from the...         3  \n",
       "4  I didnt like this coffee. Instead of telling y...         2  "
      ]
     },
     "execution_count": 4,
     "metadata": {
      "tags": []
     },
     "output_type": "execute_result"
    }
   ],
   "source": [
    "print(display.shape)\n",
    "display.head()"
   ]
  },
  {
   "cell_type": "code",
   "execution_count": 0,
   "metadata": {
    "colab": {},
    "colab_type": "code",
    "id": "HUsn2lg8Jkjb",
    "outputId": "76e2e98e-b728-46ba-d619-c2008134a3b7"
   },
   "outputs": [
    {
     "data": {
      "text/html": [
       "<div>\n",
       "<style scoped>\n",
       "    .dataframe tbody tr th:only-of-type {\n",
       "        vertical-align: middle;\n",
       "    }\n",
       "\n",
       "    .dataframe tbody tr th {\n",
       "        vertical-align: top;\n",
       "    }\n",
       "\n",
       "    .dataframe thead th {\n",
       "        text-align: right;\n",
       "    }\n",
       "</style>\n",
       "<table border=\"1\" class=\"dataframe\">\n",
       "  <thead>\n",
       "    <tr style=\"text-align: right;\">\n",
       "      <th></th>\n",
       "      <th>UserId</th>\n",
       "      <th>ProductId</th>\n",
       "      <th>ProfileName</th>\n",
       "      <th>Time</th>\n",
       "      <th>Score</th>\n",
       "      <th>Text</th>\n",
       "      <th>COUNT(*)</th>\n",
       "    </tr>\n",
       "  </thead>\n",
       "  <tbody>\n",
       "    <tr>\n",
       "      <th>80638</th>\n",
       "      <td>AZY10LLTJ71NX</td>\n",
       "      <td>B006P7E5ZI</td>\n",
       "      <td>undertheshrine \"undertheshrine\"</td>\n",
       "      <td>1334707200</td>\n",
       "      <td>5</td>\n",
       "      <td>I was recommended to try green tea extract to ...</td>\n",
       "      <td>5</td>\n",
       "    </tr>\n",
       "  </tbody>\n",
       "</table>\n",
       "</div>"
      ],
      "text/plain": [
       "              UserId   ProductId                      ProfileName        Time  \\\n",
       "80638  AZY10LLTJ71NX  B006P7E5ZI  undertheshrine \"undertheshrine\"  1334707200   \n",
       "\n",
       "       Score                                               Text  COUNT(*)  \n",
       "80638      5  I was recommended to try green tea extract to ...         5  "
      ]
     },
     "execution_count": 5,
     "metadata": {
      "tags": []
     },
     "output_type": "execute_result"
    }
   ],
   "source": [
    "display[display['UserId']=='AZY10LLTJ71NX']"
   ]
  },
  {
   "cell_type": "code",
   "execution_count": 0,
   "metadata": {
    "colab": {},
    "colab_type": "code",
    "id": "CyPhzHZKJkjf",
    "outputId": "28b60f13-e2e6-4960-e5ba-3467e16dbd03"
   },
   "outputs": [
    {
     "data": {
      "text/plain": [
       "393063"
      ]
     },
     "execution_count": 6,
     "metadata": {
      "tags": []
     },
     "output_type": "execute_result"
    }
   ],
   "source": [
    "display['COUNT(*)'].sum()"
   ]
  },
  {
   "cell_type": "markdown",
   "metadata": {
    "colab_type": "text",
    "id": "y22fy_WtJkji"
   },
   "source": [
    "#  [2] Exploratory Data Analysis"
   ]
  },
  {
   "cell_type": "markdown",
   "metadata": {
    "colab_type": "text",
    "id": "ZqpW3tWPJkjl"
   },
   "source": [
    "## [2.1] Data Cleaning: Deduplication\n",
    "\n",
    "It is observed (as shown in the table below) that the reviews data had many duplicate entries. Hence it was necessary to remove duplicates in order to get unbiased results for the analysis of the data.  Following is an example:"
   ]
  },
  {
   "cell_type": "code",
   "execution_count": 0,
   "metadata": {
    "colab": {},
    "colab_type": "code",
    "id": "fmlu_oooJkjl",
    "outputId": "9ae82f65-ed65-425a-ad4d-b96091e37940",
    "scrolled": false
   },
   "outputs": [
    {
     "data": {
      "text/html": [
       "<div>\n",
       "<style scoped>\n",
       "    .dataframe tbody tr th:only-of-type {\n",
       "        vertical-align: middle;\n",
       "    }\n",
       "\n",
       "    .dataframe tbody tr th {\n",
       "        vertical-align: top;\n",
       "    }\n",
       "\n",
       "    .dataframe thead th {\n",
       "        text-align: right;\n",
       "    }\n",
       "</style>\n",
       "<table border=\"1\" class=\"dataframe\">\n",
       "  <thead>\n",
       "    <tr style=\"text-align: right;\">\n",
       "      <th></th>\n",
       "      <th>Id</th>\n",
       "      <th>ProductId</th>\n",
       "      <th>UserId</th>\n",
       "      <th>ProfileName</th>\n",
       "      <th>HelpfulnessNumerator</th>\n",
       "      <th>HelpfulnessDenominator</th>\n",
       "      <th>Score</th>\n",
       "      <th>Time</th>\n",
       "      <th>Summary</th>\n",
       "      <th>Text</th>\n",
       "    </tr>\n",
       "  </thead>\n",
       "  <tbody>\n",
       "    <tr>\n",
       "      <th>0</th>\n",
       "      <td>78445</td>\n",
       "      <td>B000HDL1RQ</td>\n",
       "      <td>AR5J8UI46CURR</td>\n",
       "      <td>Geetha Krishnan</td>\n",
       "      <td>2</td>\n",
       "      <td>2</td>\n",
       "      <td>5</td>\n",
       "      <td>1199577600</td>\n",
       "      <td>LOACKER QUADRATINI VANILLA WAFERS</td>\n",
       "      <td>DELICIOUS WAFERS. I FIND THAT EUROPEAN WAFERS ...</td>\n",
       "    </tr>\n",
       "    <tr>\n",
       "      <th>1</th>\n",
       "      <td>138317</td>\n",
       "      <td>B000HDOPYC</td>\n",
       "      <td>AR5J8UI46CURR</td>\n",
       "      <td>Geetha Krishnan</td>\n",
       "      <td>2</td>\n",
       "      <td>2</td>\n",
       "      <td>5</td>\n",
       "      <td>1199577600</td>\n",
       "      <td>LOACKER QUADRATINI VANILLA WAFERS</td>\n",
       "      <td>DELICIOUS WAFERS. I FIND THAT EUROPEAN WAFERS ...</td>\n",
       "    </tr>\n",
       "    <tr>\n",
       "      <th>2</th>\n",
       "      <td>138277</td>\n",
       "      <td>B000HDOPYM</td>\n",
       "      <td>AR5J8UI46CURR</td>\n",
       "      <td>Geetha Krishnan</td>\n",
       "      <td>2</td>\n",
       "      <td>2</td>\n",
       "      <td>5</td>\n",
       "      <td>1199577600</td>\n",
       "      <td>LOACKER QUADRATINI VANILLA WAFERS</td>\n",
       "      <td>DELICIOUS WAFERS. I FIND THAT EUROPEAN WAFERS ...</td>\n",
       "    </tr>\n",
       "    <tr>\n",
       "      <th>3</th>\n",
       "      <td>73791</td>\n",
       "      <td>B000HDOPZG</td>\n",
       "      <td>AR5J8UI46CURR</td>\n",
       "      <td>Geetha Krishnan</td>\n",
       "      <td>2</td>\n",
       "      <td>2</td>\n",
       "      <td>5</td>\n",
       "      <td>1199577600</td>\n",
       "      <td>LOACKER QUADRATINI VANILLA WAFERS</td>\n",
       "      <td>DELICIOUS WAFERS. I FIND THAT EUROPEAN WAFERS ...</td>\n",
       "    </tr>\n",
       "    <tr>\n",
       "      <th>4</th>\n",
       "      <td>155049</td>\n",
       "      <td>B000PAQ75C</td>\n",
       "      <td>AR5J8UI46CURR</td>\n",
       "      <td>Geetha Krishnan</td>\n",
       "      <td>2</td>\n",
       "      <td>2</td>\n",
       "      <td>5</td>\n",
       "      <td>1199577600</td>\n",
       "      <td>LOACKER QUADRATINI VANILLA WAFERS</td>\n",
       "      <td>DELICIOUS WAFERS. I FIND THAT EUROPEAN WAFERS ...</td>\n",
       "    </tr>\n",
       "  </tbody>\n",
       "</table>\n",
       "</div>"
      ],
      "text/plain": [
       "       Id   ProductId         UserId      ProfileName  HelpfulnessNumerator  \\\n",
       "0   78445  B000HDL1RQ  AR5J8UI46CURR  Geetha Krishnan                     2   \n",
       "1  138317  B000HDOPYC  AR5J8UI46CURR  Geetha Krishnan                     2   \n",
       "2  138277  B000HDOPYM  AR5J8UI46CURR  Geetha Krishnan                     2   \n",
       "3   73791  B000HDOPZG  AR5J8UI46CURR  Geetha Krishnan                     2   \n",
       "4  155049  B000PAQ75C  AR5J8UI46CURR  Geetha Krishnan                     2   \n",
       "\n",
       "   HelpfulnessDenominator  Score        Time  \\\n",
       "0                       2      5  1199577600   \n",
       "1                       2      5  1199577600   \n",
       "2                       2      5  1199577600   \n",
       "3                       2      5  1199577600   \n",
       "4                       2      5  1199577600   \n",
       "\n",
       "                             Summary  \\\n",
       "0  LOACKER QUADRATINI VANILLA WAFERS   \n",
       "1  LOACKER QUADRATINI VANILLA WAFERS   \n",
       "2  LOACKER QUADRATINI VANILLA WAFERS   \n",
       "3  LOACKER QUADRATINI VANILLA WAFERS   \n",
       "4  LOACKER QUADRATINI VANILLA WAFERS   \n",
       "\n",
       "                                                Text  \n",
       "0  DELICIOUS WAFERS. I FIND THAT EUROPEAN WAFERS ...  \n",
       "1  DELICIOUS WAFERS. I FIND THAT EUROPEAN WAFERS ...  \n",
       "2  DELICIOUS WAFERS. I FIND THAT EUROPEAN WAFERS ...  \n",
       "3  DELICIOUS WAFERS. I FIND THAT EUROPEAN WAFERS ...  \n",
       "4  DELICIOUS WAFERS. I FIND THAT EUROPEAN WAFERS ...  "
      ]
     },
     "execution_count": 7,
     "metadata": {
      "tags": []
     },
     "output_type": "execute_result"
    }
   ],
   "source": [
    "display= pd.read_sql_query(\"\"\"\n",
    "SELECT *\n",
    "FROM Reviews\n",
    "WHERE Score != 3 AND UserId=\"AR5J8UI46CURR\"\n",
    "ORDER BY ProductID\n",
    "\"\"\", con)\n",
    "display.head()"
   ]
  },
  {
   "cell_type": "markdown",
   "metadata": {
    "colab_type": "text",
    "id": "pvogJHEyJkjq"
   },
   "source": [
    "As it can be seen above that same user has multiple reviews with same values for HelpfulnessNumerator, HelpfulnessDenominator, Score, Time, Summary and Text and on doing analysis it was found that <br>\n",
    "<br> \n",
    "ProductId=B000HDOPZG was Loacker Quadratini Vanilla Wafer Cookies, 8.82-Ounce Packages (Pack of 8)<br>\n",
    "<br> \n",
    "ProductId=B000HDL1RQ was Loacker Quadratini Lemon Wafer Cookies, 8.82-Ounce Packages (Pack of 8) and so on<br>\n",
    "\n",
    "It was inferred after analysis that reviews with same parameters other than ProductId belonged to the same product just having different flavour or quantity. Hence in order to reduce redundancy it was decided to eliminate the rows having same parameters.<br>\n",
    "\n",
    "The method used for the same was that we first sort the data according to ProductId and then just keep the first similar product review and delelte the others. for eg. in the above just the review for ProductId=B000HDL1RQ remains. This method ensures that there is only one representative for each product and deduplication without sorting would lead to possibility of different representatives still existing for the same product."
   ]
  },
  {
   "cell_type": "code",
   "execution_count": 0,
   "metadata": {
    "colab": {},
    "colab_type": "code",
    "id": "LAWOrfBaJkjr"
   },
   "outputs": [],
   "source": [
    "#Sorting data according to ProductId in ascending order\n",
    "sorted_data=filtered_data.sort_values('ProductId', axis=0, ascending=True, inplace=False, kind='quicksort', na_position='last')"
   ]
  },
  {
   "cell_type": "code",
   "execution_count": 0,
   "metadata": {
    "colab": {},
    "colab_type": "code",
    "id": "dfaQob28Jkju",
    "outputId": "21104e4f-cd18-4353-a54a-5b4638fc552b"
   },
   "outputs": [
    {
     "data": {
      "text/plain": [
       "(4986, 10)"
      ]
     },
     "execution_count": 9,
     "metadata": {
      "tags": []
     },
     "output_type": "execute_result"
    }
   ],
   "source": [
    "#Deduplication of entries\n",
    "final=sorted_data.drop_duplicates(subset={\"UserId\",\"ProfileName\",\"Time\",\"Text\"}, keep='first', inplace=False)\n",
    "final.shape"
   ]
  },
  {
   "cell_type": "code",
   "execution_count": 0,
   "metadata": {
    "colab": {},
    "colab_type": "code",
    "id": "9QVxT6oxJkjx",
    "outputId": "f292b9fe-6065-4979-830d-c79bc6785a3d"
   },
   "outputs": [
    {
     "data": {
      "text/plain": [
       "99.72"
      ]
     },
     "execution_count": 10,
     "metadata": {
      "tags": []
     },
     "output_type": "execute_result"
    }
   ],
   "source": [
    "#Checking to see how much % of data still remains\n",
    "(final['Id'].size*1.0)/(filtered_data['Id'].size*1.0)*100"
   ]
  },
  {
   "cell_type": "markdown",
   "metadata": {
    "colab_type": "text",
    "id": "qVaxONHLJkj1"
   },
   "source": [
    "<b>Observation:-</b> It was also seen that in two rows given below the value of HelpfulnessNumerator is greater than HelpfulnessDenominator which is not practically possible hence these two rows too are removed from calcualtions"
   ]
  },
  {
   "cell_type": "code",
   "execution_count": 0,
   "metadata": {
    "colab": {},
    "colab_type": "code",
    "id": "vLoqfOjcJkj1",
    "outputId": "db3448f8-fbda-4205-a7cc-5048e0f1fd19"
   },
   "outputs": [
    {
     "data": {
      "text/html": [
       "<div>\n",
       "<style scoped>\n",
       "    .dataframe tbody tr th:only-of-type {\n",
       "        vertical-align: middle;\n",
       "    }\n",
       "\n",
       "    .dataframe tbody tr th {\n",
       "        vertical-align: top;\n",
       "    }\n",
       "\n",
       "    .dataframe thead th {\n",
       "        text-align: right;\n",
       "    }\n",
       "</style>\n",
       "<table border=\"1\" class=\"dataframe\">\n",
       "  <thead>\n",
       "    <tr style=\"text-align: right;\">\n",
       "      <th></th>\n",
       "      <th>Id</th>\n",
       "      <th>ProductId</th>\n",
       "      <th>UserId</th>\n",
       "      <th>ProfileName</th>\n",
       "      <th>HelpfulnessNumerator</th>\n",
       "      <th>HelpfulnessDenominator</th>\n",
       "      <th>Score</th>\n",
       "      <th>Time</th>\n",
       "      <th>Summary</th>\n",
       "      <th>Text</th>\n",
       "    </tr>\n",
       "  </thead>\n",
       "  <tbody>\n",
       "    <tr>\n",
       "      <th>0</th>\n",
       "      <td>64422</td>\n",
       "      <td>B000MIDROQ</td>\n",
       "      <td>A161DK06JJMCYF</td>\n",
       "      <td>J. E. Stephens \"Jeanne\"</td>\n",
       "      <td>3</td>\n",
       "      <td>1</td>\n",
       "      <td>5</td>\n",
       "      <td>1224892800</td>\n",
       "      <td>Bought This for My Son at College</td>\n",
       "      <td>My son loves spaghetti so I didn't hesitate or...</td>\n",
       "    </tr>\n",
       "    <tr>\n",
       "      <th>1</th>\n",
       "      <td>44737</td>\n",
       "      <td>B001EQ55RW</td>\n",
       "      <td>A2V0I904FH7ABY</td>\n",
       "      <td>Ram</td>\n",
       "      <td>3</td>\n",
       "      <td>2</td>\n",
       "      <td>4</td>\n",
       "      <td>1212883200</td>\n",
       "      <td>Pure cocoa taste with crunchy almonds inside</td>\n",
       "      <td>It was almost a 'love at first bite' - the per...</td>\n",
       "    </tr>\n",
       "  </tbody>\n",
       "</table>\n",
       "</div>"
      ],
      "text/plain": [
       "      Id   ProductId          UserId              ProfileName  \\\n",
       "0  64422  B000MIDROQ  A161DK06JJMCYF  J. E. Stephens \"Jeanne\"   \n",
       "1  44737  B001EQ55RW  A2V0I904FH7ABY                      Ram   \n",
       "\n",
       "   HelpfulnessNumerator  HelpfulnessDenominator  Score        Time  \\\n",
       "0                     3                       1      5  1224892800   \n",
       "1                     3                       2      4  1212883200   \n",
       "\n",
       "                                        Summary  \\\n",
       "0             Bought This for My Son at College   \n",
       "1  Pure cocoa taste with crunchy almonds inside   \n",
       "\n",
       "                                                Text  \n",
       "0  My son loves spaghetti so I didn't hesitate or...  \n",
       "1  It was almost a 'love at first bite' - the per...  "
      ]
     },
     "execution_count": 11,
     "metadata": {
      "tags": []
     },
     "output_type": "execute_result"
    }
   ],
   "source": [
    "display= pd.read_sql_query(\"\"\"\n",
    "SELECT *\n",
    "FROM Reviews\n",
    "WHERE Score != 3 AND Id=44737 OR Id=64422\n",
    "ORDER BY ProductID\n",
    "\"\"\", con)\n",
    "\n",
    "display.head()"
   ]
  },
  {
   "cell_type": "code",
   "execution_count": 0,
   "metadata": {
    "colab": {},
    "colab_type": "code",
    "id": "f_185ozFJkj9"
   },
   "outputs": [],
   "source": [
    "final=final[final.HelpfulnessNumerator<=final.HelpfulnessDenominator]"
   ]
  },
  {
   "cell_type": "code",
   "execution_count": 0,
   "metadata": {
    "colab": {},
    "colab_type": "code",
    "id": "CofRySJyJkkC",
    "outputId": "a06c52f6-66a9-429b-8a5e-e20259f0bb21"
   },
   "outputs": [
    {
     "name": "stdout",
     "output_type": "stream",
     "text": [
      "(4986, 10)\n"
     ]
    },
    {
     "data": {
      "text/plain": [
       "1    4178\n",
       "0     808\n",
       "Name: Score, dtype: int64"
      ]
     },
     "execution_count": 13,
     "metadata": {
      "tags": []
     },
     "output_type": "execute_result"
    }
   ],
   "source": [
    "#Before starting the next phase of preprocessing lets see the number of entries left\n",
    "print(final.shape)\n",
    "\n",
    "#How many positive and negative reviews are present in our dataset?\n",
    "final['Score'].value_counts()"
   ]
  },
  {
   "cell_type": "markdown",
   "metadata": {
    "colab_type": "text",
    "id": "-fEWeywxJkkI"
   },
   "source": [
    "#  [3] Preprocessing"
   ]
  },
  {
   "cell_type": "markdown",
   "metadata": {
    "colab_type": "text",
    "id": "tzpbt9aOJkkJ"
   },
   "source": [
    "## [3.1].  Preprocessing Review Text\n",
    "\n",
    "Now that we have finished deduplication our data requires some preprocessing before we go on further with analysis and making the prediction model.\n",
    "\n",
    "Hence in the Preprocessing phase we do the following in the order below:-\n",
    "\n",
    "1. Begin by removing the html tags\n",
    "2. Remove any punctuations or limited set of special characters like , or . or # etc.\n",
    "3. Check if the word is made up of english letters and is not alpha-numeric\n",
    "4. Check to see if the length of the word is greater than 2 (as it was researched that there is no adjective in 2-letters)\n",
    "5. Convert the word to lowercase\n",
    "6. Remove Stopwords\n",
    "7. Finally Snowball Stemming the word (it was obsereved to be better than Porter Stemming)<br>\n",
    "\n",
    "After which we collect the words used to describe positive and negative reviews"
   ]
  },
  {
   "cell_type": "code",
   "execution_count": 0,
   "metadata": {
    "colab": {},
    "colab_type": "code",
    "id": "YqxBeLk8JkkL",
    "outputId": "1819632d-0129-4a13-d7ff-4e7bbf129dff"
   },
   "outputs": [
    {
     "name": "stdout",
     "output_type": "stream",
     "text": [
      "Why is this $[...] when the same product is available for $[...] here?<br />http://www.amazon.com/VICTOR-FLY-MAGNET-BAIT-REFILL/dp/B00004RBDY<br /><br />The Victor M380 and M502 traps are unreal, of course -- total fly genocide. Pretty stinky, but only right nearby.\n",
      "==================================================\n",
      "I recently tried this flavor/brand and was surprised at how delicious these chips are.  The best thing was that there were a lot of \"brown\" chips in the bsg (my favorite), so I bought some more through amazon and shared with family and friends.  I am a little disappointed that there are not, so far, very many brown chips in these bags, but the flavor is still very good.  I like them better than the yogurt and green onion flavor because they do not seem to be as salty, and the onion flavor is better.  If you haven't eaten Kettle chips before, I recommend that you try a bag before buying bulk.  They are thicker and crunchier than Lays but just as fresh out of the bag.\n",
      "==================================================\n",
      "Wow.  So far, two two-star reviews.  One obviously had no idea what they were ordering; the other wants crispy cookies.  Hey, I'm sorry; but these reviews do nobody any good beyond reminding us to look  before ordering.<br /><br />These are chocolate-oatmeal cookies.  If you don't like that combination, don't order this type of cookie.  I find the combo quite nice, really.  The oatmeal sort of \"calms\" the rich chocolate flavor and gives the cookie sort of a coconut-type consistency.  Now let's also remember that tastes differ; so, I've given my opinion.<br /><br />Then, these are soft, chewy cookies -- as advertised.  They are not \"crispy\" cookies, or the blurb would say \"crispy,\" rather than \"chewy.\"  I happen to like raw cookie dough; however, I don't see where these taste like raw cookie dough.  Both are soft, however, so is this the confusion?  And, yes, they stick together.  Soft cookies tend to do that.  They aren't individually wrapped, which would add to the cost.  Oh yeah, chocolate chip cookies tend to be somewhat sweet.<br /><br />So, if you want something hard and crisp, I suggest Nabiso's Ginger Snaps.  If you want a cookie that's soft, chewy and tastes like a combination of chocolate and oatmeal, give these a try.  I'm here to place my second order.\n",
      "==================================================\n",
      "love to order my coffee on amazon.  easy and shows up quickly.<br />This k cup is great coffee.  dcaf is very good as well\n",
      "==================================================\n"
     ]
    }
   ],
   "source": [
    "# printing some random reviews\n",
    "sent_0 = final['Text'].values[0]\n",
    "print(sent_0)\n",
    "print(\"=\"*50)\n",
    "\n",
    "sent_1000 = final['Text'].values[1000]\n",
    "print(sent_1000)\n",
    "print(\"=\"*50)\n",
    "\n",
    "sent_1500 = final['Text'].values[1500]\n",
    "print(sent_1500)\n",
    "print(\"=\"*50)\n",
    "\n",
    "sent_4900 = final['Text'].values[4900]\n",
    "print(sent_4900)\n",
    "print(\"=\"*50)"
   ]
  },
  {
   "cell_type": "code",
   "execution_count": 0,
   "metadata": {
    "colab": {},
    "colab_type": "code",
    "id": "lWiJ2_9gJkkP",
    "outputId": "08234806-3657-4d8f-c6d2-020dc9cda61c"
   },
   "outputs": [
    {
     "name": "stdout",
     "output_type": "stream",
     "text": [
      "Why is this $[...] when the same product is available for $[...] here?<br /> /><br />The Victor M380 and M502 traps are unreal, of course -- total fly genocide. Pretty stinky, but only right nearby.\n"
     ]
    }
   ],
   "source": [
    "# remove urls from text python: https://stackoverflow.com/a/40823105/4084039\n",
    "sent_0 = re.sub(r\"http\\S+\", \"\", sent_0)\n",
    "sent_1000 = re.sub(r\"http\\S+\", \"\", sent_1000)\n",
    "sent_150 = re.sub(r\"http\\S+\", \"\", sent_1500)\n",
    "sent_4900 = re.sub(r\"http\\S+\", \"\", sent_4900)\n",
    "\n",
    "print(sent_0)"
   ]
  },
  {
   "cell_type": "code",
   "execution_count": 0,
   "metadata": {
    "colab": {},
    "colab_type": "code",
    "id": "cpLtZ-lAJkkR",
    "outputId": "7e0bf159-4db4-4ffe-d72e-6d5952d453f1"
   },
   "outputs": [
    {
     "name": "stdout",
     "output_type": "stream",
     "text": [
      "Why is this $[...] when the same product is available for $[...] here? />The Victor M380 and M502 traps are unreal, of course -- total fly genocide. Pretty stinky, but only right nearby.\n",
      "==================================================\n",
      "I recently tried this flavor/brand and was surprised at how delicious these chips are.  The best thing was that there were a lot of \"brown\" chips in the bsg (my favorite), so I bought some more through amazon and shared with family and friends.  I am a little disappointed that there are not, so far, very many brown chips in these bags, but the flavor is still very good.  I like them better than the yogurt and green onion flavor because they do not seem to be as salty, and the onion flavor is better.  If you haven't eaten Kettle chips before, I recommend that you try a bag before buying bulk.  They are thicker and crunchier than Lays but just as fresh out of the bag.\n",
      "==================================================\n",
      "Wow.  So far, two two-star reviews.  One obviously had no idea what they were ordering; the other wants crispy cookies.  Hey, I'm sorry; but these reviews do nobody any good beyond reminding us to look  before ordering.These are chocolate-oatmeal cookies.  If you don't like that combination, don't order this type of cookie.  I find the combo quite nice, really.  The oatmeal sort of \"calms\" the rich chocolate flavor and gives the cookie sort of a coconut-type consistency.  Now let's also remember that tastes differ; so, I've given my opinion.Then, these are soft, chewy cookies -- as advertised.  They are not \"crispy\" cookies, or the blurb would say \"crispy,\" rather than \"chewy.\"  I happen to like raw cookie dough; however, I don't see where these taste like raw cookie dough.  Both are soft, however, so is this the confusion?  And, yes, they stick together.  Soft cookies tend to do that.  They aren't individually wrapped, which would add to the cost.  Oh yeah, chocolate chip cookies tend to be somewhat sweet.So, if you want something hard and crisp, I suggest Nabiso's Ginger Snaps.  If you want a cookie that's soft, chewy and tastes like a combination of chocolate and oatmeal, give these a try.  I'm here to place my second order.\n",
      "==================================================\n",
      "love to order my coffee on amazon.  easy and shows up quickly.This k cup is great coffee.  dcaf is very good as well\n"
     ]
    }
   ],
   "source": [
    "# https://stackoverflow.com/questions/16206380/python-beautifulsoup-how-to-remove-all-tags-from-an-element\n",
    "from bs4 import BeautifulSoup\n",
    "\n",
    "soup = BeautifulSoup(sent_0, 'lxml')\n",
    "text = soup.get_text()\n",
    "print(text)\n",
    "print(\"=\"*50)\n",
    "\n",
    "soup = BeautifulSoup(sent_1000, 'lxml')\n",
    "text = soup.get_text()\n",
    "print(text)\n",
    "print(\"=\"*50)\n",
    "\n",
    "soup = BeautifulSoup(sent_1500, 'lxml')\n",
    "text = soup.get_text()\n",
    "print(text)\n",
    "print(\"=\"*50)\n",
    "\n",
    "soup = BeautifulSoup(sent_4900, 'lxml')\n",
    "text = soup.get_text()\n",
    "print(text)"
   ]
  },
  {
   "cell_type": "code",
   "execution_count": 0,
   "metadata": {
    "colab": {},
    "colab_type": "code",
    "id": "HYBbtiCMJkkW"
   },
   "outputs": [],
   "source": [
    "# https://stackoverflow.com/a/47091490/4084039\n",
    "import re\n",
    "\n",
    "def decontracted(phrase):\n",
    "    # specific\n",
    "    phrase = re.sub(r\"won't\", \"will not\", phrase)\n",
    "    phrase = re.sub(r\"can\\'t\", \"can not\", phrase)\n",
    "\n",
    "    # general\n",
    "    phrase = re.sub(r\"n\\'t\", \" not\", phrase)\n",
    "    phrase = re.sub(r\"\\'re\", \" are\", phrase)\n",
    "    phrase = re.sub(r\"\\'s\", \" is\", phrase)\n",
    "    phrase = re.sub(r\"\\'d\", \" would\", phrase)\n",
    "    phrase = re.sub(r\"\\'ll\", \" will\", phrase)\n",
    "    phrase = re.sub(r\"\\'t\", \" not\", phrase)\n",
    "    phrase = re.sub(r\"\\'ve\", \" have\", phrase)\n",
    "    phrase = re.sub(r\"\\'m\", \" am\", phrase)\n",
    "    return phrase"
   ]
  },
  {
   "cell_type": "code",
   "execution_count": 0,
   "metadata": {
    "colab": {},
    "colab_type": "code",
    "id": "WPQSZurTJkkY",
    "outputId": "6d91fc9f-8f77-497c-95bb-96bfc9781196"
   },
   "outputs": [
    {
     "name": "stdout",
     "output_type": "stream",
     "text": [
      "Wow.  So far, two two-star reviews.  One obviously had no idea what they were ordering; the other wants crispy cookies.  Hey, I am sorry; but these reviews do nobody any good beyond reminding us to look  before ordering.<br /><br />These are chocolate-oatmeal cookies.  If you do not like that combination, do not order this type of cookie.  I find the combo quite nice, really.  The oatmeal sort of \"calms\" the rich chocolate flavor and gives the cookie sort of a coconut-type consistency.  Now let is also remember that tastes differ; so, I have given my opinion.<br /><br />Then, these are soft, chewy cookies -- as advertised.  They are not \"crispy\" cookies, or the blurb would say \"crispy,\" rather than \"chewy.\"  I happen to like raw cookie dough; however, I do not see where these taste like raw cookie dough.  Both are soft, however, so is this the confusion?  And, yes, they stick together.  Soft cookies tend to do that.  They are not individually wrapped, which would add to the cost.  Oh yeah, chocolate chip cookies tend to be somewhat sweet.<br /><br />So, if you want something hard and crisp, I suggest Nabiso is Ginger Snaps.  If you want a cookie that is soft, chewy and tastes like a combination of chocolate and oatmeal, give these a try.  I am here to place my second order.\n",
      "==================================================\n"
     ]
    }
   ],
   "source": [
    "sent_1500 = decontracted(sent_1500)\n",
    "print(sent_1500)\n",
    "print(\"=\"*50)"
   ]
  },
  {
   "cell_type": "code",
   "execution_count": 0,
   "metadata": {
    "colab": {},
    "colab_type": "code",
    "id": "6bakeyaQJkkb",
    "outputId": "f7cf0096-0b7b-4ec1-84df-01e838621d62"
   },
   "outputs": [
    {
     "name": "stdout",
     "output_type": "stream",
     "text": [
      "Why is this $[...] when the same product is available for $[...] here?<br /> /><br />The Victor  and  traps are unreal, of course -- total fly genocide. Pretty stinky, but only right nearby.\n"
     ]
    }
   ],
   "source": [
    "#remove words with numbers python: https://stackoverflow.com/a/18082370/4084039\n",
    "sent_0 = re.sub(\"\\S*\\d\\S*\", \"\", sent_0).strip()\n",
    "print(sent_0)"
   ]
  },
  {
   "cell_type": "code",
   "execution_count": 0,
   "metadata": {
    "colab": {},
    "colab_type": "code",
    "id": "dMqqVqadJkkg",
    "outputId": "e4a6bd28-9d39-4dd2-9483-0406dd3dff50"
   },
   "outputs": [
    {
     "name": "stdout",
     "output_type": "stream",
     "text": [
      "Wow So far two two star reviews One obviously had no idea what they were ordering the other wants crispy cookies Hey I am sorry but these reviews do nobody any good beyond reminding us to look before ordering br br These are chocolate oatmeal cookies If you do not like that combination do not order this type of cookie I find the combo quite nice really The oatmeal sort of calms the rich chocolate flavor and gives the cookie sort of a coconut type consistency Now let is also remember that tastes differ so I have given my opinion br br Then these are soft chewy cookies as advertised They are not crispy cookies or the blurb would say crispy rather than chewy I happen to like raw cookie dough however I do not see where these taste like raw cookie dough Both are soft however so is this the confusion And yes they stick together Soft cookies tend to do that They are not individually wrapped which would add to the cost Oh yeah chocolate chip cookies tend to be somewhat sweet br br So if you want something hard and crisp I suggest Nabiso is Ginger Snaps If you want a cookie that is soft chewy and tastes like a combination of chocolate and oatmeal give these a try I am here to place my second order \n"
     ]
    }
   ],
   "source": [
    "#remove spacial character: https://stackoverflow.com/a/5843547/4084039\n",
    "sent_1500 = re.sub('[^A-Za-z0-9]+', ' ', sent_1500)\n",
    "print(sent_1500)"
   ]
  },
  {
   "cell_type": "code",
   "execution_count": 0,
   "metadata": {
    "colab": {},
    "colab_type": "code",
    "id": "bvEoXB5NJkkk"
   },
   "outputs": [],
   "source": [
    "# https://gist.github.com/sebleier/554280\n",
    "# we are removing the words from the stop words list: 'no', 'nor', 'not'\n",
    "# <br /><br /> ==> after the above steps, we are getting \"br br\"\n",
    "# we are including them into stop words list\n",
    "# instead of <br /> if we have <br/> these tags would have revmoved in the 1st step\n",
    "\n",
    "stopwords= set(['br', 'the', 'i', 'me', 'my', 'myself', 'we', 'our', 'ours', 'ourselves', 'you', \"you're\", \"you've\",\\\n",
    "            \"you'll\", \"you'd\", 'your', 'yours', 'yourself', 'yourselves', 'he', 'him', 'his', 'himself', \\\n",
    "            'she', \"she's\", 'her', 'hers', 'herself', 'it', \"it's\", 'its', 'itself', 'they', 'them', 'their',\\\n",
    "            'theirs', 'themselves', 'what', 'which', 'who', 'whom', 'this', 'that', \"that'll\", 'these', 'those', \\\n",
    "            'am', 'is', 'are', 'was', 'were', 'be', 'been', 'being', 'have', 'has', 'had', 'having', 'do', 'does', \\\n",
    "            'did', 'doing', 'a', 'an', 'the', 'and', 'but', 'if', 'or', 'because', 'as', 'until', 'while', 'of', \\\n",
    "            'at', 'by', 'for', 'with', 'about', 'against', 'between', 'into', 'through', 'during', 'before', 'after',\\\n",
    "            'above', 'below', 'to', 'from', 'up', 'down', 'in', 'out', 'on', 'off', 'over', 'under', 'again', 'further',\\\n",
    "            'then', 'once', 'here', 'there', 'when', 'where', 'why', 'how', 'all', 'any', 'both', 'each', 'few', 'more',\\\n",
    "            'most', 'other', 'some', 'such', 'only', 'own', 'same', 'so', 'than', 'too', 'very', \\\n",
    "            's', 't', 'can', 'will', 'just', 'don', \"don't\", 'should', \"should've\", 'now', 'd', 'll', 'm', 'o', 're', \\\n",
    "            've', 'y', 'ain', 'aren', \"aren't\", 'couldn', \"couldn't\", 'didn', \"didn't\", 'doesn', \"doesn't\", 'hadn',\\\n",
    "            \"hadn't\", 'hasn', \"hasn't\", 'haven', \"haven't\", 'isn', \"isn't\", 'ma', 'mightn', \"mightn't\", 'mustn',\\\n",
    "            \"mustn't\", 'needn', \"needn't\", 'shan', \"shan't\", 'shouldn', \"shouldn't\", 'wasn', \"wasn't\", 'weren', \"weren't\", \\\n",
    "            'won', \"won't\", 'wouldn', \"wouldn't\"])"
   ]
  },
  {
   "cell_type": "code",
   "execution_count": 0,
   "metadata": {
    "colab": {},
    "colab_type": "code",
    "id": "0j3jfqWCJkko",
    "outputId": "c83c59c5-fe17-4ad2-d43f-0b0947a6e6ba"
   },
   "outputs": [
    {
     "name": "stderr",
     "output_type": "stream",
     "text": [
      "100%|████████████████████████████████████████████████████████████████████████████| 4986/4986 [00:01<00:00, 3137.37it/s]\n"
     ]
    }
   ],
   "source": [
    "# Combining all the above stundents \n",
    "from tqdm import tqdm\n",
    "preprocessed_reviews = []\n",
    "# tqdm is for printing the status bar\n",
    "for sentance in tqdm(final['Text'].values):\n",
    "    sentance = re.sub(r\"http\\S+\", \"\", sentance)\n",
    "    sentance = BeautifulSoup(sentance, 'lxml').get_text()\n",
    "    sentance = decontracted(sentance)\n",
    "    sentance = re.sub(\"\\S*\\d\\S*\", \"\", sentance).strip()\n",
    "    sentance = re.sub('[^A-Za-z]+', ' ', sentance)\n",
    "    # https://gist.github.com/sebleier/554280\n",
    "    sentance = ' '.join(e.lower() for e in sentance.split() if e.lower() not in stopwords)\n",
    "    preprocessed_reviews.append(sentance.strip())"
   ]
  },
  {
   "cell_type": "code",
   "execution_count": 0,
   "metadata": {
    "colab": {},
    "colab_type": "code",
    "id": "nS_7EeV7Jkkr",
    "outputId": "4d4cd05e-0730-4e52-dc30-eb97014871dd"
   },
   "outputs": [
    {
     "data": {
      "text/plain": [
       "'wow far two two star reviews one obviously no idea ordering wants crispy cookies hey sorry reviews nobody good beyond reminding us look ordering chocolate oatmeal cookies not like combination not order type cookie find combo quite nice really oatmeal sort calms rich chocolate flavor gives cookie sort coconut type consistency let also remember tastes differ given opinion soft chewy cookies advertised not crispy cookies blurb would say crispy rather chewy happen like raw cookie dough however not see taste like raw cookie dough soft however confusion yes stick together soft cookies tend not individually wrapped would add cost oh yeah chocolate chip cookies tend somewhat sweet want something hard crisp suggest nabiso ginger snaps want cookie soft chewy tastes like combination chocolate oatmeal give try place second order'"
      ]
     },
     "execution_count": 23,
     "metadata": {
      "tags": []
     },
     "output_type": "execute_result"
    }
   ],
   "source": [
    "preprocessed_reviews[1500]"
   ]
  },
  {
   "cell_type": "markdown",
   "metadata": {},
   "source": [
    "<h1>Applying Naive Bayes on Amazon Fine Food Reviews</h1>"
   ]
  },
  {
   "cell_type": "markdown",
   "metadata": {},
   "source": [
    "<p> \n",
    "Tried to Apply Naive Bayes on Amazon Fine Food Reviews text data as Naive Bayes is the benchmark\n",
    "algorithm for text processing algorithm.Also tried Feature Engineering techniques to improve the AUC value \n",
    "</p>"
   ]
  },
  {
   "cell_type": "code",
   "execution_count": 1,
   "metadata": {},
   "outputs": [],
   "source": [
    "%matplotlib inline\n",
    "import warnings\n",
    "warnings.filterwarnings(\"ignore\")"
   ]
  },
  {
   "cell_type": "code",
   "execution_count": 2,
   "metadata": {},
   "outputs": [],
   "source": [
    "import pandas as pd\n",
    "import numpy as np\n",
    "import sqlite3\n",
    "import seaborn as sn\n",
    "import matplotlib.pyplot as plt\n",
    "from sklearn.preprocessing import StandardScaler\n",
    "from sklearn.feature_extraction.text import CountVectorizer\n",
    "from sklearn.feature_extraction.text import TfidfVectorizer\n",
    "from sklearn import datasets, naive_bayes\n",
    "from sklearn.model_selection import train_test_split\n",
    "from sklearn.metrics import accuracy_score\n",
    "from sklearn.model_selection import GridSearchCV\n",
    "from sklearn.metrics import roc_curve, auc\n",
    "import matplotlib.patches as mpatches\n",
    "from math import log\n",
    "import re\n",
    "import nltk\n",
    "# Tutorial about Python regular expressions: https://pymotw.com/2/re/\n",
    "import string\n",
    "from nltk.corpus import stopwords\n",
    "from nltk.stem import PorterStemmer\n",
    "from nltk.stem.wordnet import WordNetLemmatizer\n",
    "from tqdm import tqdm"
   ]
  },
  {
   "cell_type": "code",
   "execution_count": 4,
   "metadata": {},
   "outputs": [],
   "source": [
    "#Reading data from database\n",
    "con = sqlite3.connect('final.sqlite') \n",
    "data = pd.read_sql_query(\"\"\" SELECT * FROM Reviews WHERE Score != 3 \"\"\", con) "
   ]
  },
  {
   "cell_type": "code",
   "execution_count": 3,
   "metadata": {},
   "outputs": [],
   "source": [
    "stop = set(stopwords.words('english')) #set of stopwords\n",
    "sno = nltk.stem.SnowballStemmer('english') #initialising the snowball stemmer\n",
    "\n",
    "def cleanhtml(sentence): #function to clean the word of any html-tags\n",
    "    cleanr = re.compile('<.*?>')\n",
    "    cleantext = re.sub(cleanr, ' ', sentence)\n",
    "    return cleantext\n",
    "def cleanpunc(sentence): #function to clean the word of any punctuation or special characters\n",
    "    cleaned = re.sub(r'[?|!|\\'|\"|#]',r'',sentence)\n",
    "    cleaned = re.sub(r'[.|,|)|(|\\|/]',r' ',cleaned)\n",
    "    return  cleaned"
   ]
  },
  {
   "cell_type": "code",
   "execution_count": 5,
   "metadata": {},
   "outputs": [],
   "source": [
    "row_list = list(np.random.choice(data.shape[0], int(100000), replace=False))\n",
    "total_data = data.iloc[row_list]\n",
    "print(\"Shape of dataset\", total_data.shape)"
   ]
  },
  {
   "cell_type": "code",
   "execution_count": 7,
   "metadata": {},
   "outputs": [],
   "source": [
    "#Saving the 6k dataset in a pickle file\n",
    "total_data.to_pickle('./naive_bayes_data.pkl')"
   ]
  },
  {
   "cell_type": "code",
   "execution_count": 4,
   "metadata": {},
   "outputs": [
    {
     "name": "stdout",
     "output_type": "stream",
     "text": [
      "labels shape (100000,)\n"
     ]
    }
   ],
   "source": [
    "#Reading the 6K dataset from the pickle file\n",
    "total_data = pd.read_pickle(\"./naive_bayes_data.pkl\")\n",
    "labels = total_data['Score']\n",
    "print(\"labels shape\",labels.shape)"
   ]
  },
  {
   "cell_type": "code",
   "execution_count": 5,
   "metadata": {},
   "outputs": [],
   "source": [
    "# This function plots the confusion matrices given y_i, y_i_hat.\n",
    "def plot_confusion_matrix(test_y, predict_y):\n",
    "    C = confusion_matrix(test_y, predict_y) \n",
    "    A =(((C.T)/(C.sum(axis=1))).T)\n",
    "    B =(C/C.sum(axis=0))\n",
    "    plt.figure(figsize=(20,4))\n",
    "    \n",
    "    labels = [1,2]\n",
    "    cmap=sn.light_palette(\"blue\")\n",
    "    plt.subplot(1, 3, 1)\n",
    "    sn.heatmap(C, annot=True, cmap=cmap, fmt=\".3f\", xticklabels=labels, yticklabels=labels)\n",
    "    plt.xlabel('Predicted Class')\n",
    "    plt.ylabel('Original Class')\n",
    "    plt.title(\"Confusion matrix\")\n",
    "    \n",
    "    plt.subplot(1, 3, 2)\n",
    "    sn.heatmap(B, annot=True, cmap=cmap, fmt=\".3f\", xticklabels=labels, yticklabels=labels)\n",
    "    plt.xlabel('Predicted Class')\n",
    "    plt.ylabel('Original Class')\n",
    "    plt.title(\"Precision matrix\")\n",
    "    \n",
    "    plt.subplot(1, 3, 3)\n",
    "    sn.heatmap(A, annot=True, cmap=cmap, fmt=\".3f\", xticklabels=labels, yticklabels=labels)\n",
    "    plt.xlabel('Predicted Class')\n",
    "    plt.ylabel('Original Class')\n",
    "    plt.title(\"Recall matrix\")\n",
    "    \n",
    "    plt.show()"
   ]
  },
  {
   "cell_type": "code",
   "execution_count": 6,
   "metadata": {},
   "outputs": [
    {
     "name": "stderr",
     "output_type": "stream",
     "text": [
      "100%|██████████| 100000/100000 [00:08<00:00, 12432.50it/s]\n"
     ]
    }
   ],
   "source": [
    "#Performing data cleaning of the summary text of the data\n",
    "final_string=[]\n",
    "for i, sent in enumerate(tqdm(total_data['Summary'].values)):\n",
    "        filtered_sentence=[]\n",
    "        #print(sent);\n",
    "        sent=cleanhtml(sent) # remove HTMl tags\n",
    "        for w in sent.split():\n",
    "            # we have used cleanpunc(w).split(), one more split function here because consider w=\"abc.def\", cleanpunc(w) will return \"abc def\"\n",
    "            # if we dont use .split() function then we will be considring \"abc def\" as a single word, but if you use .split() function we will get \"abc\", \"def\"\n",
    "            for cleaned_words in cleanpunc(w).split():\n",
    "                if((cleaned_words.isalpha()) & (len(cleaned_words)>2)):    \n",
    "                    if(cleaned_words.lower() not in stop):\n",
    "                        s=(sno.stem(cleaned_words.lower())).encode('utf8')\n",
    "                        filtered_sentence.append(s)\n",
    "                        if (total_data['Score'].values)[i] == 1: \n",
    "                            all_positive_words.append(s) #list of all words used to describe positive reviews\n",
    "                        if(total_data['Score'].values)[i] == 0:\n",
    "                            all_negative_words.append(s) #list of all words used to describe negative reviews reviews\n",
    "        str1 = b\" \".join(filtered_sentence) #final string of cleaned words\n",
    "        #print(\"***********************************************************************\")\n",
    "        final_string.append(str1)\n",
    "total_data['CleanedSummaryText']=final_string #adding a column of CleanedText which displays the data after pre-processing of the review \n",
    "total_data['CleanedSummaryText']=total_data['CleanedSummaryText'].str.decode(\"utf-8\")"
   ]
  },
  {
   "cell_type": "code",
   "execution_count": 7,
   "metadata": {},
   "outputs": [],
   "source": [
    "labels = labels.replace('positive', 1)\n",
    "labels = labels.replace('negative', 0)"
   ]
  },
  {
   "cell_type": "code",
   "execution_count": 8,
   "metadata": {},
   "outputs": [
    {
     "name": "stdout",
     "output_type": "stream",
     "text": [
      "X_train shape (60000,)\n",
      "X_test shape (40000,)\n",
      "Y_train shape (60000,)\n",
      "Y_test shape (40000,)\n",
      "========================================\n",
      "X_test shape (20000,)\n",
      "Y_test shape (20000,)\n",
      "X_cv shape (20000,)\n",
      "Y_cv shape (20000,)\n",
      "----------------------------------------\n",
      "X_train shape (60000,)\n",
      "Y_train shape (60000,)\n"
     ]
    }
   ],
   "source": [
    "#Splitting the total data into train, test and cross-validation data\n",
    "#Splitup Proportion : Train data - 60%, Cross-Validation - 20%, Test data - 20%\n",
    "from sklearn.model_selection import train_test_split\n",
    "X_train, X_test, Y_train, Y_test = train_test_split(total_data['CleanedText'].values, labels, test_size=0.4)\n",
    "print(\"X_train shape\", X_train.shape)\n",
    "print(\"X_test shape\", X_test.shape)\n",
    "print(\"Y_train shape\", Y_train.shape)\n",
    "print(\"Y_test shape\", Y_test.shape)\n",
    "print(\"=\"*40)\n",
    "X_test, X_cv, Y_test, Y_cv = train_test_split(X_test, Y_test, test_size=0.5)\n",
    "print(\"X_test shape\", X_test.shape)\n",
    "print(\"Y_test shape\", Y_test.shape)\n",
    "print(\"X_cv shape\", X_cv.shape)\n",
    "print(\"Y_cv shape\", Y_cv.shape)\n",
    "print(\"-\"*40)\n",
    "print(\"X_train shape\", X_train.shape)\n",
    "print(\"Y_train shape\", Y_train.shape)"
   ]
  },
  {
   "cell_type": "code",
   "execution_count": 9,
   "metadata": {},
   "outputs": [
    {
     "name": "stdout",
     "output_type": "stream",
     "text": [
      "X_train shape (60000,)\n",
      "X_test shape (40000,)\n",
      "========================================\n",
      "X_test shape (20000,)\n",
      "X_cv shape (20000,)\n",
      "X_train shape (60000,)\n"
     ]
    }
   ],
   "source": [
    "#Splitting summary text data into train, cross validation and test data \n",
    "from sklearn.model_selection import train_test_split\n",
    "X_train_summary, X_test_summary, _ , label_test = train_test_split(total_data['CleanedSummaryText'].values, labels, test_size=0.4)\n",
    "print(\"X_train shape\", X_train_summary.shape)\n",
    "print(\"X_test shape\", X_test_summary.shape)\n",
    "print(\"=\"*40)\n",
    "X_test_summary, X_cv_summary, _ , _ = train_test_split(X_test_summary, label_test , test_size=0.5)\n",
    "print(\"X_test shape\", X_test_summary.shape)\n",
    "print(\"X_cv shape\", X_cv_summary.shape)\n",
    "print(\"X_train shape\", X_train_summary.shape)"
   ]
  },
  {
   "cell_type": "code",
   "execution_count": 10,
   "metadata": {},
   "outputs": [],
   "source": [
    "#finding length of review text for train, test and cross validation data\n",
    "text_len_train = []\n",
    "text_len_cv = []\n",
    "text_len_test = []\n",
    "for each in X_train:\n",
    "    text_len_train.append(len(each.split()))\n",
    "for each in X_cv:\n",
    "    text_len_cv.append(len(each.split()))\n",
    "for each in X_test:\n",
    "    text_len_test.append(len(each.split()))"
   ]
  },
  {
   "cell_type": "code",
   "execution_count": 11,
   "metadata": {},
   "outputs": [
    {
     "name": "stdout",
     "output_type": "stream",
     "text": [
      "60000\n",
      "20000\n",
      "20000\n"
     ]
    }
   ],
   "source": [
    "print(len(text_len_train))\n",
    "print(len(text_len_cv))\n",
    "print(len(text_len_test))"
   ]
  },
  {
   "cell_type": "markdown",
   "metadata": {
    "colab_type": "text",
    "id": "RGRFxjhgJklc"
   },
   "source": [
    "# Applying Multinomial Naive Bayes"
   ]
  },
  {
   "cell_type": "markdown",
   "metadata": {
    "colab_type": "text",
    "id": "FxGKHpZlJkle"
   },
   "source": [
    "## [5.1] Applying Naive Bayes on BOW,<font color='red'> SET 1</font>"
   ]
  },
  {
   "cell_type": "code",
   "execution_count": 0,
   "metadata": {
    "colab": {},
    "colab_type": "code",
    "id": "UR0f8SfZJkle"
   },
   "outputs": [],
   "source": [
    "# Please write all the code with proper documentation"
   ]
  },
  {
   "cell_type": "code",
   "execution_count": 12,
   "metadata": {},
   "outputs": [
    {
     "name": "stdout",
     "output_type": "stream",
     "text": [
      "After vectorizations\n",
      "(60000, 6729) (60000,)\n",
      "(20000, 6729) (20000,)\n",
      "(20000, 6729) (20000,)\n"
     ]
    }
   ],
   "source": [
    "#Converting the text data in the 200000 data points to BOW Vectors\n",
    "count_vect = CountVectorizer(min_df=10)  #in scikit-learn\n",
    "X_train_bow = count_vect.fit_transform(X_train)\n",
    "X_cv_bow = count_vect.transform(X_cv)\n",
    "X_test_bow = count_vect.transform(X_test)\n",
    "print(\"After vectorizations\")\n",
    "print(X_train_bow.shape, Y_train.shape)\n",
    "print(X_cv_bow.shape, Y_cv.shape)\n",
    "print(X_test_bow.shape, Y_test.shape)\n",
    "features_list = count_vect.get_feature_names()"
   ]
  },
  {
   "cell_type": "code",
   "execution_count": 13,
   "metadata": {},
   "outputs": [],
   "source": [
    "#Taking the list of hyperparameter in which the model must be trained\n",
    "alpha = [0.00001, 0.0001, 0.001, 0.01, 0.1, 1, 10, 100, 1000, 10000]"
   ]
  },
  {
   "cell_type": "code",
   "execution_count": 14,
   "metadata": {},
   "outputs": [
    {
     "data": {
      "text/plain": [
       "GridSearchCV(cv=5, error_score='raise-deprecating',\n",
       "       estimator=MultinomialNB(alpha=1.0, class_prior=[0.5, 0.5], fit_prior=True),\n",
       "       fit_params=None, iid='warn', n_jobs=None,\n",
       "       param_grid=[{'alpha': [1e-05, 0.0001, 0.001, 0.01, 0.1, 1, 10, 100, 1000, 10000]}],\n",
       "       pre_dispatch='2*n_jobs', refit=True, return_train_score='warn',\n",
       "       scoring='roc_auc', verbose=0)"
      ]
     },
     "execution_count": 14,
     "metadata": {},
     "output_type": "execute_result"
    }
   ],
   "source": [
    "#Grid-Search on the hyperparameters\n",
    "tuned_parameters = [{'alpha': alpha}]\n",
    "#Using Multinomial Naive bayes\n",
    "grid_model = GridSearchCV(naive_bayes.MultinomialNB(class_prior = [0.5, 0.5]), tuned_parameters, scoring = 'roc_auc', cv=5)\n",
    "grid_model.fit(X_train_bow, Y_train)"
   ]
  },
  {
   "cell_type": "code",
   "execution_count": 15,
   "metadata": {},
   "outputs": [
    {
     "name": "stdout",
     "output_type": "stream",
     "text": [
      "MultinomialNB(alpha=1, class_prior=[0.5, 0.5], fit_prior=True)\n",
      "Score 0.915823970422078\n",
      "Best Hyper-parameter {'alpha': 1}\n"
     ]
    }
   ],
   "source": [
    "#The Best Hyper-parameter\n",
    "print(grid_model.best_estimator_)\n",
    "print(\"Score\", grid_model.score(X_cv_bow, Y_cv))\n",
    "print(\"Best Hyper-parameter\", grid_model.best_params_)"
   ]
  },
  {
   "cell_type": "code",
   "execution_count": 16,
   "metadata": {},
   "outputs": [
    {
     "name": "stdout",
     "output_type": "stream",
     "text": [
      "Executing 1e-05 Roc Train 0.9343361364432741 Roc CV 0.8949650156921427\n",
      "Executing 0.0001 Roc Train 0.9341400001803407 Roc CV 0.8984407490298577\n",
      "Executing 0.001 Roc Train 0.9338114172872519 Roc CV 0.9023718291180169\n",
      "Executing 0.01 Roc Train 0.9332155222614895 Roc CV 0.9067895968819126\n",
      "Executing 0.1 Roc Train 0.9320967911723635 Roc CV 0.911892386368797\n",
      "Executing 1 Roc Train 0.9291402308487066 Roc CV 0.915823970422078\n",
      "Executing 10 Roc Train 0.9101529824056656 Roc CV 0.9029219783639595\n",
      "Executing 100 Roc Train 0.7078419558915952 Roc CV 0.7105476514806952\n",
      "Executing 1000 Roc Train 0.5650215685406934 Roc CV 0.5685626100783439\n",
      "Executing 10000 Roc Train 0.541810803290002 Roc CV 0.547970747354031\n"
     ]
    }
   ],
   "source": [
    "#Cross Validation to find the best alpha value\n",
    "#Iteratively training the Naive Bayes model for best alpha value \n",
    "x_axis = []\n",
    "y_axis_train = []\n",
    "y_axis_cv = []\n",
    "for a in alpha:\n",
    "    clf = naive_bayes.MultinomialNB(alpha=a, class_prior = [0.5, 0.5])\n",
    "    clf.fit(X_train_bow, Y_train)\n",
    "    y_pred = clf.predict_proba(X_train_bow)[:,1]\n",
    "    fpr, tpr, _ = roc_curve(Y_train, y_pred)\n",
    "    roc_auc_train = auc(fpr, tpr)\n",
    "    y_pred = clf.predict_proba(X_cv_bow)[:,1]\n",
    "    fpr, tpr, _ = roc_curve(Y_cv, y_pred)\n",
    "    roc_auc_cv = auc(fpr, tpr)\n",
    "    x_axis.append(a)\n",
    "    y_axis_train.append(roc_auc_train)\n",
    "    y_axis_cv.append(roc_auc_cv)\n",
    "    print(\"Executing\", a, \"Roc Train\", roc_auc_train, \"Roc CV\", roc_auc_cv)"
   ]
  },
  {
   "cell_type": "code",
   "execution_count": 17,
   "metadata": {},
   "outputs": [
    {
     "data": {
      "image/png": "[encoded data removed]",
      "text/plain": [
       "<Figure size 432x288 with 1 Axes>"
      ]
     },
     "metadata": {
      "needs_background": "light"
     },
     "output_type": "display_data"
    }
   ],
   "source": [
    "#Plotting the hyperparameter Vs AUC for train and cross validation data\n",
    "y_axis_train_log = []\n",
    "y_axis_cv_log = []\n",
    "x_axis_log = []\n",
    "for each in x_axis:\n",
    "    x_axis_log.append(round(log(each, 10)))\n",
    "for each in y_axis_train:\n",
    "    y_axis_train_log.append(log(each, 10))\n",
    "for each in y_axis_cv:\n",
    "    y_axis_cv_log.append(log(each, 10))\n",
    "#Plot between AUC and hyperparameter for Validation data and training data\n",
    "plt.plot(x_axis_log, y_axis_train_log, color='red')\n",
    "plt.plot(x_axis_log, y_axis_cv_log, color='blue')\n",
    "plt.title('plot between AUC value and hyperparameter')\n",
    "blue_patch = mpatches.Patch(color='blue', label='Cross Validation AUC')\n",
    "red_patch = mpatches.Patch(color='red', label='Train AUC')\n",
    "plt.legend(handles=[red_patch, blue_patch], bbox_to_anchor=(1.05, 1), loc=2, borderaxespad=0.)\n",
    "plt.xlabel('Hyper parameter')\n",
    "plt.ylabel('Area Under ROC Curve')\n",
    "plt.show()"
   ]
  },
  {
   "cell_type": "code",
   "execution_count": null,
   "metadata": {},
   "outputs": [],
   "source": [
    "Observation:\n",
    "    In the above hyperparameter vs roc curve, both train and cross validation attain a maximum value as well as have a\n",
    "minimum difference at log(alpha) = 1 which is at 10.Hence the optimum hyperparamter choosen is 10"
   ]
  },
  {
   "cell_type": "code",
   "execution_count": 18,
   "metadata": {},
   "outputs": [
    {
     "data": {
      "text/plain": [
       "MultinomialNB(alpha=10, class_prior=[0.5, 0.5], fit_prior=True)"
      ]
     },
     "execution_count": 18,
     "metadata": {},
     "output_type": "execute_result"
    }
   ],
   "source": [
    "#Training the Multinomial naive bayes Model with the best hyperparameter\n",
    "model = naive_bayes.MultinomialNB(alpha=10, class_prior = [0.5, 0.5])\n",
    "model.fit(X_train_bow, Y_train)"
   ]
  },
  {
   "cell_type": "code",
   "execution_count": 19,
   "metadata": {},
   "outputs": [
    {
     "data": {
      "image/png": "[encoded data removed]",
      "text/plain": [
       "<Figure size 432x288 with 1 Axes>"
      ]
     },
     "metadata": {
      "needs_background": "light"
     },
     "output_type": "display_data"
    }
   ],
   "source": [
    "#Plotting the ROC Curve on both train and test data\n",
    "y_scores = model.predict_proba(X_train_bow)\n",
    "y_pred_train = model.predict(X_train_bow)\n",
    "train_fpr, train_tpr, threshold = roc_curve(Y_train, y_scores[:, 1])\n",
    "train_roc_auc = auc(train_fpr, train_tpr)\n",
    "\n",
    "plt.title('Receiver Operating Characteristic')\n",
    "plt.plot(train_fpr, train_tpr, color='red')\n",
    "blue_patch = mpatches.Patch(color='blue', label='Test Data ROC Curve')\n",
    "red_patch = mpatches.Patch(color='red', label='Training data ROC Curve')\n",
    "plt.legend(handles=[red_patch, blue_patch], loc = 'lower right')\n",
    "plt.plot([0, 1], [0, 1],'r--')\n",
    "plt.xlim([0, 1])\n",
    "plt.ylim([0, 1])\n",
    "plt.ylabel('True Positive Rate')\n",
    "plt.xlabel('False Positive Rate')\n",
    "plt.title('Train and Test ROC Curve of kNN')\n",
    "\n",
    "y_scores = model.predict_proba(X_test_bow)\n",
    "y_pred_test = model.predict(X_test_bow)\n",
    "fpr, tpr, threshold = roc_curve(Y_test, y_scores[:, 1])\n",
    "test_roc_auc = auc(fpr, tpr)\n",
    "plt.plot(fpr, tpr, color='blue')\n",
    "plt.show()"
   ]
  },
  {
   "cell_type": "code",
   "execution_count": 20,
   "metadata": {},
   "outputs": [
    {
     "name": "stdout",
     "output_type": "stream",
     "text": [
      "The AUC of the test data is 0.8994157654803658\n",
      "The AUC of the train data is 0.9101529824056656\n",
      "The confusion matrix, Recall and precision matrix for train data:\n",
      "The confusion matrix, Recall and precision matrix for test data:\n"
     ]
    },
    {
     "data": {
      "image/png": "[encoded data removed]",
      "text/plain": [
       "<Figure size 1440x288 with 6 Axes>"
      ]
     },
     "metadata": {
      "needs_background": "light"
     },
     "output_type": "display_data"
    },
    {
     "data": {
      "image/png": "[encoded data removed]",
      "text/plain": [
       "<Figure size 1440x288 with 6 Axes>"
      ]
     },
     "metadata": {
      "needs_background": "light"
     },
     "output_type": "display_data"
    }
   ],
   "source": [
    "#Test Data AUC Value and Confusion matrix for test data and train data\n",
    "from sklearn.metrics import confusion_matrix\n",
    "from sklearn.metrics import recall_score\n",
    "print(\"The AUC of the test data is\", test_roc_auc)\n",
    "print(\"The AUC of the train data is\", train_roc_auc)\n",
    "print(\"The confusion matrix, Recall and precision matrix for train data:\")\n",
    "print(\"The confusion matrix, Recall and precision matrix for test data:\")\n",
    "plot_confusion_matrix(Y_train, y_pred_train)\n",
    "plot_confusion_matrix(Y_test, y_pred_test)"
   ]
  },
  {
   "cell_type": "markdown",
   "metadata": {},
   "source": [
    "<h3>Training Naive Bayes Model with Feature Engineered BOW Data</h3>"
   ]
  },
  {
   "cell_type": "markdown",
   "metadata": {},
   "source": [
    "<p>\n",
    "Feature engineered data has review summary text, and length of the review summary as additional features\n",
    "</p>"
   ]
  },
  {
   "cell_type": "code",
   "execution_count": 21,
   "metadata": {},
   "outputs": [
    {
     "name": "stdout",
     "output_type": "stream",
     "text": [
      "After vectorizations\n",
      "(60000, 6729) (60000,)\n",
      "(20000, 6729) (20000,)\n",
      "(20000, 6729) (20000,)\n"
     ]
    }
   ],
   "source": [
    "#Converting the text data in the 200000 data points to BOW Vectors\n",
    "count_vect = CountVectorizer(min_df=10)  #in scikit-learn\n",
    "X_train_bow = count_vect.fit_transform(X_train)\n",
    "X_cv_bow = count_vect.transform(X_cv)\n",
    "X_test_bow = count_vect.transform(X_test)\n",
    "print(\"After vectorizations\")\n",
    "print(X_train_bow.shape, Y_train.shape)\n",
    "print(X_cv_bow.shape, Y_cv.shape)\n",
    "print(X_test_bow.shape, Y_test.shape)"
   ]
  },
  {
   "cell_type": "code",
   "execution_count": 22,
   "metadata": {},
   "outputs": [
    {
     "name": "stdout",
     "output_type": "stream",
     "text": [
      "<class 'numpy.matrixlib.defmatrix.matrix'>\n",
      "<class 'numpy.ndarray'>\n",
      "(60000, 1)\n",
      "<class 'numpy.matrixlib.defmatrix.matrix'>\n",
      "(60000, 6730)\n",
      "<class 'numpy.matrixlib.defmatrix.matrix'>\n",
      "<class 'numpy.ndarray'>\n",
      "(20000, 1)\n",
      "<class 'numpy.matrixlib.defmatrix.matrix'>\n",
      "(20000, 6730)\n",
      "<class 'numpy.matrixlib.defmatrix.matrix'>\n",
      "<class 'numpy.ndarray'>\n",
      "(20000, 1)\n",
      "<class 'numpy.matrixlib.defmatrix.matrix'>\n",
      "(20000, 6730)\n"
     ]
    }
   ],
   "source": [
    "#Appending length of the review text to review text BOW vector\n",
    "X_train_bow = X_train_bow.todense()\n",
    "print(type(X_train_bow))\n",
    "text_len_train_col = np.array(text_len_train).reshape(60000, 1)\n",
    "print(type(text_len_train_col))\n",
    "print(text_len_train_col.shape)\n",
    "X_train_bow = np.hstack((X_train_bow, text_len_train_col))\n",
    "print(type(X_train_bow))\n",
    "print(X_train_bow.shape)\n",
    "X_cv_bow = X_cv_bow.todense()\n",
    "print(type(X_cv_bow))\n",
    "text_len_cv_col = np.array(text_len_cv).reshape(20000, 1)\n",
    "print(type(text_len_cv_col))\n",
    "print(text_len_cv_col.shape)\n",
    "X_cv_bow = np.hstack((X_cv_bow, text_len_cv_col))\n",
    "print(type(X_cv_bow))\n",
    "print(X_cv_bow.shape)\n",
    "X_test_bow = X_test_bow.todense()\n",
    "print(type(X_test_bow))\n",
    "text_len_test_col = np.array(text_len_test).reshape(20000, 1)\n",
    "print(type(text_len_test_col))\n",
    "print(text_len_test_col.shape)\n",
    "X_test_bow = np.hstack((X_test_bow, text_len_test_col))\n",
    "print(type(X_test_bow))\n",
    "print(X_test_bow.shape)"
   ]
  },
  {
   "cell_type": "code",
   "execution_count": 23,
   "metadata": {},
   "outputs": [
    {
     "name": "stdout",
     "output_type": "stream",
     "text": [
      "After vectorizations\n",
      "(60000, 1700)\n",
      "(20000, 1700)\n",
      "(20000, 1700)\n"
     ]
    }
   ],
   "source": [
    "#Converting the summary of review text data in the 100000 data points to BOW Vectors\n",
    "count_vect = CountVectorizer(min_df=10)  #in scikit-learn\n",
    "X_train_bow2 = count_vect.fit_transform(X_train_summary)\n",
    "X_cv_bow2 = count_vect.transform(X_cv_summary)\n",
    "X_test_bow2 = count_vect.transform(X_test_summary)\n",
    "print(\"After vectorizations\")\n",
    "print(X_train_bow2.shape)\n",
    "print(X_cv_bow2.shape)\n",
    "print(X_test_bow2.shape)\n",
    "X_train_bow2 = X_train_bow2.todense()\n",
    "X_cv_bow2 = X_cv_bow2.todense()\n",
    "X_test_bow2 = X_test_bow2.todense()"
   ]
  },
  {
   "cell_type": "code",
   "execution_count": 24,
   "metadata": {},
   "outputs": [
    {
     "name": "stdout",
     "output_type": "stream",
     "text": [
      "(60000, 8430)\n",
      "(20000, 8430)\n",
      "(20000, 8430)\n"
     ]
    }
   ],
   "source": [
    "#Appending summary review test BOW to the original BOW vectors\n",
    "X_train_final = np.hstack((X_train_bow, X_train_bow2))\n",
    "X_cv_final = np.hstack((X_cv_bow, X_cv_bow2))\n",
    "X_test_final = np.hstack((X_test_bow, X_test_bow2))\n",
    "print(X_train_final.shape)\n",
    "print(X_cv_final.shape)\n",
    "print(X_test_final.shape)"
   ]
  },
  {
   "cell_type": "code",
   "execution_count": 25,
   "metadata": {},
   "outputs": [],
   "source": [
    "#Taking the list of hyperparameter in which the model must be trained\n",
    "alpha = [0.00001, 0.0001, 0.001, 0.01, 0.1, 1, 10, 100, 1000, 10000]"
   ]
  },
  {
   "cell_type": "code",
   "execution_count": 26,
   "metadata": {},
   "outputs": [
    {
     "data": {
      "text/plain": [
       "GridSearchCV(cv=5, error_score='raise-deprecating',\n",
       "       estimator=MultinomialNB(alpha=1.0, class_prior=[0.5, 0.5], fit_prior=True),\n",
       "       fit_params=None, iid='warn', n_jobs=None,\n",
       "       param_grid=[{'alpha': [1e-05, 0.0001, 0.001, 0.01, 0.1, 1, 10, 100, 1000, 10000]}],\n",
       "       pre_dispatch='2*n_jobs', refit=True, return_train_score='warn',\n",
       "       scoring='roc_auc', verbose=0)"
      ]
     },
     "execution_count": 26,
     "metadata": {},
     "output_type": "execute_result"
    }
   ],
   "source": [
    "#Grid-Search on the hyperparameters\n",
    "tuned_parameters = [{'alpha': alpha}]\n",
    "#Using Multinomial Naive bayes\n",
    "grid_model = GridSearchCV(naive_bayes.MultinomialNB(class_prior = [0.5, 0.5]), tuned_parameters, scoring = 'roc_auc', cv=5)\n",
    "grid_model.fit(X_train_final, Y_train)"
   ]
  },
  {
   "cell_type": "code",
   "execution_count": 27,
   "metadata": {},
   "outputs": [
    {
     "name": "stdout",
     "output_type": "stream",
     "text": [
      "MultinomialNB(alpha=1, class_prior=[0.5, 0.5], fit_prior=True)\n",
      "Score 0.9145995443698881\n",
      "Best Hyper-parameter {'alpha': 1}\n"
     ]
    }
   ],
   "source": [
    "#The Best Hyper-parameter\n",
    "print(grid_model.best_estimator_)\n",
    "print(\"Score\", grid_model.score(X_cv_final, Y_cv))\n",
    "print(\"Best Hyper-parameter\", grid_model.best_params_)"
   ]
  },
  {
   "cell_type": "code",
   "execution_count": 28,
   "metadata": {},
   "outputs": [
    {
     "name": "stdout",
     "output_type": "stream",
     "text": [
      "Executing 1e-05 Roc Train 0.9386384569041245 Roc CV 0.8847863085190036\n",
      "Executing 0.0001 Roc Train 0.9383954372958454 Roc CV 0.8902228940742907\n",
      "Executing 0.001 Roc Train 0.9379831448528136 Roc CV 0.896469636843114\n",
      "Executing 0.01 Roc Train 0.9372403214174949 Roc CV 0.9030611107725987\n",
      "Executing 0.1 Roc Train 0.9358302016607704 Roc CV 0.9098957906627017\n",
      "Executing 1 Roc Train 0.9320202711359851 Roc CV 0.9145995443698881\n",
      "Executing 10 Roc Train 0.9040860405586285 Roc CV 0.8933146725508493\n",
      "Executing 100 Roc Train 0.5996240304851312 Roc CV 0.5997152711168803\n",
      "Executing 1000 Roc Train 0.5007068024730166 Roc CV 0.4959898639491954\n",
      "Executing 10000 Roc Train 0.48072864257328596 Roc CV 0.4791256981057985\n"
     ]
    }
   ],
   "source": [
    "#Cross Validation to find the best alpha value\n",
    "#Iteratively training the Naive Bayes model for best alpha value \n",
    "x_axis = []\n",
    "y_axis_train = []\n",
    "y_axis_cv = []\n",
    "for a in alpha:\n",
    "    clf = naive_bayes.MultinomialNB(alpha=a, class_prior = [0.5, 0.5])\n",
    "    clf.fit(X_train_final, Y_train)\n",
    "    y_pred = clf.predict_proba(X_train_final)[:,1]\n",
    "    fpr, tpr, _ = roc_curve(Y_train, y_pred)\n",
    "    roc_auc_train = auc(fpr, tpr)\n",
    "    y_pred = clf.predict_proba(X_cv_final)[:,1]\n",
    "    fpr, tpr, _ = roc_curve(Y_cv, y_pred)\n",
    "    roc_auc_cv = auc(fpr, tpr)\n",
    "    x_axis.append(a)\n",
    "    y_axis_train.append(roc_auc_train)\n",
    "    y_axis_cv.append(roc_auc_cv)\n",
    "    print(\"Executing\", a, \"Roc Train\", roc_auc_train, \"Roc CV\", roc_auc_cv)"
   ]
  },
  {
   "cell_type": "code",
   "execution_count": 29,
   "metadata": {},
   "outputs": [
    {
     "data": {
      "image/png": "[encoded data removed]",
      "text/plain": [
       "<Figure size 432x288 with 1 Axes>"
      ]
     },
     "metadata": {
      "needs_background": "light"
     },
     "output_type": "display_data"
    }
   ],
   "source": [
    "#Plotting the hyperparameter Vs AUC for train and cross validation data\n",
    "y_axis_train_log = []\n",
    "y_axis_cv_log = []\n",
    "x_axis_log = []\n",
    "for each in x_axis:\n",
    "    x_axis_log.append(round(log(each, 10)))\n",
    "for each in y_axis_train:\n",
    "    y_axis_train_log.append(log(each, 10))\n",
    "for each in y_axis_cv:\n",
    "    y_axis_cv_log.append(log(each, 10))\n",
    "#Plot between AUC and hyperparameter for Validation data and training data\n",
    "plt.plot(x_axis_log, y_axis_train_log, color='red')\n",
    "plt.plot(x_axis_log, y_axis_cv_log, color='blue')\n",
    "plt.title('plot between AUC value and hyperparameter')\n",
    "blue_patch = mpatches.Patch(color='blue', label='Cross Validation AUC')\n",
    "red_patch = mpatches.Patch(color='red', label='Train AUC')\n",
    "plt.legend(handles=[red_patch, blue_patch], bbox_to_anchor=(1.05, 1), loc=2, borderaxespad=0.)\n",
    "plt.xlabel('Hyper parameter')\n",
    "plt.ylabel('Area Under ROC Curve')\n",
    "plt.show()"
   ]
  },
  {
   "cell_type": "code",
   "execution_count": null,
   "metadata": {},
   "outputs": [],
   "source": [
    "Observation:\n",
    "    In the above hyperparameter vs roc curve, both train and cross validation attain a maximum value as well as have a\n",
    "minimum difference at log(alpha) = 1 which is at 10.Hence the optimum hyperparamter choosen is 10"
   ]
  },
  {
   "cell_type": "code",
   "execution_count": 30,
   "metadata": {},
   "outputs": [
    {
     "data": {
      "text/plain": [
       "MultinomialNB(alpha=10, class_prior=[0.5, 0.5], fit_prior=True)"
      ]
     },
     "execution_count": 30,
     "metadata": {},
     "output_type": "execute_result"
    }
   ],
   "source": [
    "#Training the Multinomial naive bayes Model with the best hyperparameter\n",
    "model_feat_engg = naive_bayes.MultinomialNB(alpha=10, class_prior = [0.5, 0.5])\n",
    "model_feat_engg.fit(X_train_final, Y_train)"
   ]
  },
  {
   "cell_type": "code",
   "execution_count": 31,
   "metadata": {},
   "outputs": [
    {
     "data": {
      "image/png": "[encoded data removed]",
      "text/plain": [
       "<Figure size 432x288 with 1 Axes>"
      ]
     },
     "metadata": {
      "needs_background": "light"
     },
     "output_type": "display_data"
    }
   ],
   "source": [
    "#Plotting the ROC Curve on both train and test data\n",
    "y_scores = model_feat_engg.predict_proba(X_train_final)\n",
    "y_pred_train = model_feat_engg.predict(X_train_final)\n",
    "train_fpr, train_tpr, threshold = roc_curve(Y_train, y_scores[:, 1])\n",
    "train_roc_auc = auc(train_fpr, train_tpr)\n",
    "\n",
    "plt.title('Receiver Operating Characteristic')\n",
    "plt.plot(train_fpr, train_tpr, color='red')\n",
    "blue_patch = mpatches.Patch(color='blue', label='Test Data ROC Curve')\n",
    "red_patch = mpatches.Patch(color='red', label='Training data ROC Curve')\n",
    "plt.legend(handles=[red_patch, blue_patch], loc = 'lower right')\n",
    "plt.plot([0, 1], [0, 1],'r--')\n",
    "plt.xlim([0, 1])\n",
    "plt.ylim([0, 1])\n",
    "plt.ylabel('True Positive Rate')\n",
    "plt.xlabel('False Positive Rate')\n",
    "plt.title('Train and Test ROC Curve of kNN')\n",
    "\n",
    "y_scores = model_feat_engg.predict_proba(X_test_final)\n",
    "y_pred_test = model_feat_engg.predict(X_test_final)\n",
    "fpr, tpr, threshold = roc_curve(Y_test, y_scores[:, 1])\n",
    "test_roc_auc = auc(fpr, tpr)\n",
    "plt.plot(fpr, tpr, color='blue')\n",
    "plt.show()"
   ]
  },
  {
   "cell_type": "code",
   "execution_count": 32,
   "metadata": {},
   "outputs": [
    {
     "name": "stdout",
     "output_type": "stream",
     "text": [
      "The AUC of the test data is 0.8901354228702747\n",
      "The AUC of the train data is 0.9040860405586285\n",
      "The confusion matrix, Recall and precision matrix for train data:\n",
      "The confusion matrix, Recall and precision matrix for test data:\n"
     ]
    },
    {
     "data": {
      "image/png": "[encoded data removed]",
      "text/plain": [
       "<Figure size 1440x288 with 6 Axes>"
      ]
     },
     "metadata": {
      "needs_background": "light"
     },
     "output_type": "display_data"
    },
    {
     "data": {
      "image/png": "[encoded data removed]",
      "text/plain": [
       "<Figure size 1440x288 with 6 Axes>"
      ]
     },
     "metadata": {
      "needs_background": "light"
     },
     "output_type": "display_data"
    }
   ],
   "source": [
    "#Test Data AUC Value and Confusion matrix for test data and train data\n",
    "from sklearn.metrics import confusion_matrix\n",
    "from sklearn.metrics import recall_score\n",
    "print(\"The AUC of the test data is\", test_roc_auc)\n",
    "print(\"The AUC of the train data is\", train_roc_auc)\n",
    "print(\"The confusion matrix, Recall and precision matrix for train data:\")\n",
    "print(\"The confusion matrix, Recall and precision matrix for test data:\")\n",
    "plot_confusion_matrix(Y_train, y_pred_train)\n",
    "plot_confusion_matrix(Y_test, y_pred_test)"
   ]
  },
  {
   "cell_type": "markdown",
   "metadata": {
    "colab_type": "text",
    "id": "u-ZSD3tlJklg"
   },
   "source": [
    "### [5.1.1] Top 10 important features of positive class from<font color='red'> SET 1</font>"
   ]
  },
  {
   "cell_type": "code",
   "execution_count": 0,
   "metadata": {
    "colab": {},
    "colab_type": "code",
    "id": "86fu_aO8Jklg"
   },
   "outputs": [],
   "source": [
    "# Please write all the code with proper documentation"
   ]
  },
  {
   "cell_type": "code",
   "execution_count": 33,
   "metadata": {},
   "outputs": [
    {
     "name": "stdout",
     "output_type": "stream",
     "text": [
      "Top 10 positive features:\n",
      "lightweight\n",
      "tassimo\n",
      "goo\n",
      "flavacol\n",
      "lousi\n",
      "usda\n",
      "greasi\n",
      "omnivor\n",
      "produc\n",
      "trend\n"
     ]
    }
   ],
   "source": [
    "max_ind_pos=np.argsort((model.feature_log_prob_)[1])[::-1][0:10] \n",
    "print(\"Top 10 positive features:\")\n",
    "for each in max_ind_pos:\n",
    "    print(features_list[each-1])"
   ]
  },
  {
   "cell_type": "markdown",
   "metadata": {
    "colab_type": "text",
    "id": "mquFtwF5Jklj"
   },
   "source": [
    "### [5.1.2] Top 10 important features of negative class from<font color='red'> SET 1</font>"
   ]
  },
  {
   "cell_type": "code",
   "execution_count": 34,
   "metadata": {
    "colab": {},
    "colab_type": "code",
    "id": "_RacUnTrJklj"
   },
   "outputs": [
    {
     "name": "stdout",
     "output_type": "stream",
     "text": [
      "Top 10 negative features:\n",
      "tassimo\n",
      "lightweight\n",
      "produc\n",
      "omnivor\n",
      "flavacol\n",
      "worthwhil\n",
      "trend\n",
      "goo\n",
      "coff\n",
      "usda\n"
     ]
    }
   ],
   "source": [
    "# Please write all the code with proper documentation\n",
    "max_ind_neg=np.argsort((model.feature_log_prob_)[0])[::-1][0:10] \n",
    "print(\"Top 10 negative features:\")\n",
    "for each in max_ind_neg:\n",
    "    print(features_list[each-1])"
   ]
  },
  {
   "cell_type": "markdown",
   "metadata": {
    "colab_type": "text",
    "id": "6bp7BbwCJkll"
   },
   "source": [
    "## [5.2] Applying Naive Bayes on TFIDF,<font color='red'> SET 2</font>"
   ]
  },
  {
   "cell_type": "code",
   "execution_count": 0,
   "metadata": {
    "colab": {},
    "colab_type": "code",
    "id": "oL29fzPFJkll"
   },
   "outputs": [],
   "source": [
    "# Please write all the code with proper documentation"
   ]
  },
  {
   "cell_type": "code",
   "execution_count": 35,
   "metadata": {},
   "outputs": [
    {
     "name": "stdout",
     "output_type": "stream",
     "text": [
      "After vectorizations\n",
      "(60000, 6729) (60000,)\n",
      "(20000, 6729) (20000,)\n",
      "(20000, 6729) (20000,)\n"
     ]
    }
   ],
   "source": [
    "#Converting the text data in the 100000 data points to TF-IDF Vectors\n",
    "from sklearn.feature_extraction.text import TfidfVectorizer\n",
    "tf_idf_vect = TfidfVectorizer(min_df = 10)\n",
    "X_train_vec = tf_idf_vect.fit_transform(X_train)\n",
    "X_cv_vec = tf_idf_vect.transform(X_cv)\n",
    "X_test_vec = tf_idf_vect.transform(X_test)\n",
    "print(\"After vectorizations\")\n",
    "print(X_train_vec.shape, Y_train.shape)\n",
    "print(X_cv_vec.shape, Y_cv.shape)\n",
    "print(X_test_vec.shape, Y_test.shape)\n",
    "feature_list = tf_idf_vect.get_feature_names()"
   ]
  },
  {
   "cell_type": "code",
   "execution_count": 36,
   "metadata": {},
   "outputs": [],
   "source": [
    "#Taking the list of hyperparameter in which the model must be trained\n",
    "alpha = [0.00001, 0.0001, 0.001, 0.01, 0.1, 1, 10, 100, 1000, 10000]"
   ]
  },
  {
   "cell_type": "code",
   "execution_count": 37,
   "metadata": {},
   "outputs": [
    {
     "data": {
      "text/plain": [
       "GridSearchCV(cv=5, error_score='raise-deprecating',\n",
       "       estimator=MultinomialNB(alpha=1.0, class_prior=[0.5, 0.5], fit_prior=True),\n",
       "       fit_params=None, iid='warn', n_jobs=None,\n",
       "       param_grid=[{'alpha': [1e-05, 0.0001, 0.001, 0.01, 0.1, 1, 10, 100, 1000, 10000]}],\n",
       "       pre_dispatch='2*n_jobs', refit=True, return_train_score='warn',\n",
       "       scoring='roc_auc', verbose=0)"
      ]
     },
     "execution_count": 37,
     "metadata": {},
     "output_type": "execute_result"
    }
   ],
   "source": [
    "#Grid-Search on the hyperparameters\n",
    "tuned_parameters = [{'alpha': alpha}]\n",
    "#Using Multinomial Naive bayes\n",
    "grid_model = GridSearchCV(naive_bayes.MultinomialNB(class_prior = [0.5, 0.5]), tuned_parameters, scoring = 'roc_auc', cv=5)\n",
    "grid_model.fit(X_train_vec, Y_train)"
   ]
  },
  {
   "cell_type": "code",
   "execution_count": 38,
   "metadata": {},
   "outputs": [
    {
     "name": "stdout",
     "output_type": "stream",
     "text": [
      "MultinomialNB(alpha=0.1, class_prior=[0.5, 0.5], fit_prior=True)\n",
      "Score 0.9235386970284163\n",
      "Best Hyper-parameter {'alpha': 0.1}\n"
     ]
    }
   ],
   "source": [
    "#The Best Hyper-parameter\n",
    "print(grid_model.best_estimator_)\n",
    "print(\"Score\", grid_model.score(X_cv_vec, Y_cv))\n",
    "print(\"Best Hyper-parameter\", grid_model.best_params_)"
   ]
  },
  {
   "cell_type": "code",
   "execution_count": 39,
   "metadata": {},
   "outputs": [
    {
     "name": "stdout",
     "output_type": "stream",
     "text": [
      "Executing 1e-05 Roc Train 0.9478002825058385 Roc CV 0.9008638608779369\n",
      "Executing 0.0001 Roc Train 0.947656645314465 Roc CV 0.904733495256376\n",
      "Executing 0.001 Roc Train 0.947386092291252 Roc CV 0.9094063359331848\n",
      "Executing 0.01 Roc Train 0.9468155907070845 Roc CV 0.9159192008124907\n",
      "Executing 0.1 Roc Train 0.9451539522612944 Roc CV 0.9235386970284163\n",
      "Executing 1 Roc Train 0.9346663528877897 Roc CV 0.9224356600090783\n",
      "Executing 10 Roc Train 0.8695913531656402 Roc CV 0.8659210493185212\n",
      "Executing 100 Roc Train 0.7323166411917922 Roc CV 0.7395083590127336\n",
      "Executing 1000 Roc Train 0.6794681385125791 Roc CV 0.691171904138455\n",
      "Executing 10000 Roc Train 0.6676012052212414 Roc CV 0.680729499592682\n"
     ]
    }
   ],
   "source": [
    "#Cross Validation to find the best alpha value\n",
    "#Iteratively training the naive bayes model for alpha \n",
    "x_axis = []\n",
    "y_axis_train = []\n",
    "y_axis_cv = []\n",
    "for a in alpha:\n",
    "    clf = naive_bayes.MultinomialNB(alpha=a, class_prior = [0.5, 0.5])\n",
    "    clf.fit(X_train_vec, Y_train)\n",
    "    y_pred = clf.predict_proba(X_train_vec)[:,1]\n",
    "    fpr, tpr, _ = roc_curve(Y_train, y_pred)\n",
    "    roc_auc_train = auc(fpr, tpr)\n",
    "    y_pred = clf.predict_proba(X_cv_vec)[:,1]\n",
    "    fpr, tpr, _ = roc_curve(Y_cv, y_pred)\n",
    "    roc_auc_cv = auc(fpr, tpr)\n",
    "    x_axis.append(a)\n",
    "    y_axis_train.append(roc_auc_train)\n",
    "    y_axis_cv.append(roc_auc_cv)\n",
    "    print(\"Executing\", a, \"Roc Train\", roc_auc_train, \"Roc CV\", roc_auc_cv)"
   ]
  },
  {
   "cell_type": "code",
   "execution_count": 40,
   "metadata": {},
   "outputs": [
    {
     "data": {
      "image/png": "[encoded data removed]",
      "text/plain": [
       "<Figure size 432x288 with 1 Axes>"
      ]
     },
     "metadata": {
      "needs_background": "light"
     },
     "output_type": "display_data"
    }
   ],
   "source": [
    "#Plotting the hyperparameter Vs AUC for train and cross validation data\n",
    "y_axis_train_log = []\n",
    "y_axis_cv_log = []\n",
    "x_axis_log = []\n",
    "for each in x_axis:\n",
    "    x_axis_log.append(round(log(each, 10)))\n",
    "for each in y_axis_train:\n",
    "    y_axis_train_log.append(log(each, 10))\n",
    "for each in y_axis_cv:\n",
    "    y_axis_cv_log.append(log(each, 10))\n",
    "#Plot between AUC and hyperparameter for Validation data and training data\n",
    "plt.plot(x_axis_log, y_axis_train_log, color='red')\n",
    "plt.plot(x_axis_log, y_axis_cv_log, color='blue')\n",
    "plt.title('plot between AUC value and hyperparameter')\n",
    "blue_patch = mpatches.Patch(color='blue', label='Cross Validation AUC')\n",
    "red_patch = mpatches.Patch(color='red', label='Train AUC')\n",
    "plt.legend(handles=[red_patch, blue_patch], bbox_to_anchor=(1.05, 1), loc=2, borderaxespad=0.)\n",
    "plt.xlabel('Hyper parameter')\n",
    "plt.ylabel('Area Under ROC Curve')\n",
    "plt.show()"
   ]
  },
  {
   "cell_type": "code",
   "execution_count": null,
   "metadata": {},
   "outputs": [],
   "source": [
    "Observation:\n",
    "    In this hyperparameter vs AUC curve, both train and test data have high AUC infact the AUC(with the very \n",
    "less difference as noticeable in the plot)at log(alpha) = 0 which is alpha = 1"
   ]
  },
  {
   "cell_type": "code",
   "execution_count": 41,
   "metadata": {},
   "outputs": [
    {
     "data": {
      "text/plain": [
       "MultinomialNB(alpha=1, class_prior=[0.5, 0.5], fit_prior=True)"
      ]
     },
     "execution_count": 41,
     "metadata": {},
     "output_type": "execute_result"
    }
   ],
   "source": [
    "#Training the Multinomial naive bayes Model with the best hyperparameter\n",
    "model = naive_bayes.MultinomialNB(alpha=1, class_prior = [0.5, 0.5])\n",
    "model.fit(X_train_vec, Y_train)"
   ]
  },
  {
   "cell_type": "code",
   "execution_count": 42,
   "metadata": {},
   "outputs": [
    {
     "data": {
      "image/png": "[encoded data removed]",
      "text/plain": [
       "<Figure size 432x288 with 1 Axes>"
      ]
     },
     "metadata": {
      "needs_background": "light"
     },
     "output_type": "display_data"
    }
   ],
   "source": [
    "#Plotting the ROC Curve on both train and test data\n",
    "y_scores = model.predict_proba(X_train_vec)\n",
    "y_pred_train = model.predict(X_train_vec)\n",
    "train_fpr, train_tpr, threshold = roc_curve(Y_train, y_scores[:, 1])\n",
    "train_roc_auc = auc(train_fpr, train_tpr)\n",
    "\n",
    "plt.title('Receiver Operating Characteristic')\n",
    "plt.plot(train_fpr, train_tpr, color='red')\n",
    "blue_patch = mpatches.Patch(color='blue', label='Test Data ROC Curve')\n",
    "red_patch = mpatches.Patch(color='red', label='Training data ROC Curve')\n",
    "plt.legend(handles=[red_patch, blue_patch], loc = 'lower right')\n",
    "plt.plot([0, 1], [0, 1],'r--')\n",
    "plt.xlim([0, 1])\n",
    "plt.ylim([0, 1])\n",
    "plt.ylabel('True Positive Rate')\n",
    "plt.xlabel('False Positive Rate')\n",
    "plt.title('Train and Test ROC Curve of kNN')\n",
    "\n",
    "y_scores = model.predict_proba(X_test_vec)\n",
    "y_pred = model.predict(X_test_vec)\n",
    "fpr, tpr, threshold = roc_curve(Y_test, y_scores[:, 1])\n",
    "test_roc_auc = auc(fpr, tpr)\n",
    "plt.plot(fpr, tpr, color='blue')\n",
    "plt.show()"
   ]
  },
  {
   "cell_type": "code",
   "execution_count": 43,
   "metadata": {},
   "outputs": [
    {
     "name": "stdout",
     "output_type": "stream",
     "text": [
      "The AUC of the test data is 0.9222197255665165\n",
      "The AUC of the train data is 0.9346663528877897\n",
      "The confusion matrix, Recall and precision matrix for train data:\n",
      "The confusion matrix, Recall and precision matrix for test data:\n"
     ]
    },
    {
     "data": {
      "image/png": "[encoded data removed]",
      "text/plain": [
       "<Figure size 1440x288 with 6 Axes>"
      ]
     },
     "metadata": {
      "needs_background": "light"
     },
     "output_type": "display_data"
    },
    {
     "data": {
      "image/png": "[encoded data removed]",
      "text/plain": [
       "<Figure size 1440x288 with 6 Axes>"
      ]
     },
     "metadata": {
      "needs_background": "light"
     },
     "output_type": "display_data"
    }
   ],
   "source": [
    "#Test Data AUC Value and Confusion matrix for test data and train data\n",
    "from sklearn.metrics import confusion_matrix\n",
    "from sklearn.metrics import recall_score\n",
    "print(\"The AUC of the test data is\", test_roc_auc)\n",
    "print(\"The AUC of the train data is\", train_roc_auc)\n",
    "print(\"The confusion matrix, Recall and precision matrix for train data:\")\n",
    "print(\"The confusion matrix, Recall and precision matrix for test data:\")\n",
    "plot_confusion_matrix(Y_train, y_pred_train)\n",
    "plot_confusion_matrix(Y_test, y_pred_test)"
   ]
  },
  {
   "cell_type": "markdown",
   "metadata": {},
   "source": [
    "<h3>Training Naive Bayes Model with Feature Engineered TF_IDF Data</h3>"
   ]
  },
  {
   "cell_type": "code",
   "execution_count": 44,
   "metadata": {},
   "outputs": [
    {
     "name": "stdout",
     "output_type": "stream",
     "text": [
      "<class 'numpy.matrixlib.defmatrix.matrix'>\n",
      "<class 'numpy.ndarray'>\n",
      "(60000, 1)\n",
      "<class 'numpy.matrixlib.defmatrix.matrix'>\n",
      "(60000, 6730)\n",
      "<class 'numpy.matrixlib.defmatrix.matrix'>\n",
      "<class 'numpy.ndarray'>\n",
      "(20000, 1)\n",
      "<class 'numpy.matrixlib.defmatrix.matrix'>\n",
      "(20000, 6730)\n",
      "<class 'numpy.matrixlib.defmatrix.matrix'>\n",
      "<class 'numpy.ndarray'>\n",
      "(20000, 1)\n",
      "<class 'numpy.matrixlib.defmatrix.matrix'>\n",
      "(20000, 6730)\n"
     ]
    }
   ],
   "source": [
    "#Appending length of the review text to review text TF_IDF vector\n",
    "X_train_vec = X_train_vec.todense()\n",
    "print(type(X_train_vec))\n",
    "text_len_train_col = np.array(text_len_train).reshape(60000, 1)\n",
    "print(type(text_len_train_col))\n",
    "print(text_len_train_col.shape)\n",
    "X_train_vec = np.hstack((X_train_vec, text_len_train_col))\n",
    "print(type(X_train_vec))\n",
    "print(X_train_vec.shape)\n",
    "X_cv_vec = X_cv_vec.todense()\n",
    "print(type(X_cv_vec))\n",
    "text_len_cv_col = np.array(text_len_cv).reshape(20000, 1)\n",
    "print(type(text_len_cv_col))\n",
    "print(text_len_cv_col.shape)\n",
    "X_cv_vec = np.hstack((X_cv_vec, text_len_cv_col))\n",
    "print(type(X_cv_vec))\n",
    "print(X_cv_vec.shape)\n",
    "X_test_vec = X_test_vec.todense()\n",
    "print(type(X_test_vec))\n",
    "text_len_test_col = np.array(text_len_test).reshape(20000, 1)\n",
    "print(type(text_len_test_col))\n",
    "print(text_len_test_col.shape)\n",
    "X_test_vec = np.hstack((X_test_vec, text_len_test_col))\n",
    "print(type(X_test_vec))\n",
    "print(X_test_vec.shape)"
   ]
  },
  {
   "cell_type": "code",
   "execution_count": 45,
   "metadata": {},
   "outputs": [
    {
     "name": "stdout",
     "output_type": "stream",
     "text": [
      "After vectorizations\n",
      "(60000, 1700)\n",
      "(20000, 1700)\n",
      "(20000, 1700)\n"
     ]
    }
   ],
   "source": [
    "#Converting the summary of review text data in the 100000 data points to TF_IDF Vectors\n",
    "tf_idf_vect = TfidfVectorizer(min_df = 10)  #in scikit-learn\n",
    "X_train_vec2 = tf_idf_vect.fit_transform(X_train_summary)\n",
    "X_cv_vec2 = tf_idf_vect.transform(X_cv_summary)\n",
    "X_test_vec2 = tf_idf_vect.transform(X_test_summary)\n",
    "print(\"After vectorizations\")\n",
    "print(X_train_vec2.shape)\n",
    "print(X_cv_vec2.shape)\n",
    "print(X_test_vec2.shape)\n",
    "X_train_vec2 = X_train_vec2.todense()\n",
    "X_cv_vec2 = X_cv_vec2.todense()\n",
    "X_test_vec2 = X_test_vec2.todense()"
   ]
  },
  {
   "cell_type": "code",
   "execution_count": 46,
   "metadata": {},
   "outputs": [
    {
     "name": "stdout",
     "output_type": "stream",
     "text": [
      "(60000, 8430)\n",
      "(20000, 8430)\n",
      "(20000, 8430)\n"
     ]
    }
   ],
   "source": [
    "#Appending summary review test Tf-idf vector to the original tf-idf vectors\n",
    "X_train_final = np.hstack((X_train_vec, X_train_vec2))\n",
    "X_cv_final = np.hstack((X_cv_vec, X_cv_vec2))\n",
    "X_test_final = np.hstack((X_test_vec, X_test_vec2))\n",
    "print(X_train_final.shape)\n",
    "print(X_cv_final.shape)\n",
    "print(X_test_final.shape)"
   ]
  },
  {
   "cell_type": "code",
   "execution_count": 47,
   "metadata": {},
   "outputs": [
    {
     "data": {
      "text/plain": [
       "GridSearchCV(cv=5, error_score='raise-deprecating',\n",
       "       estimator=MultinomialNB(alpha=1.0, class_prior=[0.5, 0.5], fit_prior=True),\n",
       "       fit_params=None, iid='warn', n_jobs=None,\n",
       "       param_grid=[{'alpha': [1e-05, 0.0001, 0.001, 0.01, 0.1, 1, 10, 100, 1000, 10000]}],\n",
       "       pre_dispatch='2*n_jobs', refit=True, return_train_score='warn',\n",
       "       scoring='roc_auc', verbose=0)"
      ]
     },
     "execution_count": 47,
     "metadata": {},
     "output_type": "execute_result"
    }
   ],
   "source": [
    "#Grid-Search on the hyperparameters\n",
    "tuned_parameters = [{'alpha': alpha}]\n",
    "#Using Multinomial Naive bayes\n",
    "grid_model = GridSearchCV(naive_bayes.MultinomialNB(class_prior = [0.5, 0.5]), tuned_parameters, scoring = 'roc_auc', cv=5)\n",
    "grid_model.fit(X_train_final, Y_train)"
   ]
  },
  {
   "cell_type": "code",
   "execution_count": 48,
   "metadata": {},
   "outputs": [
    {
     "name": "stdout",
     "output_type": "stream",
     "text": [
      "MultinomialNB(alpha=1, class_prior=[0.5, 0.5], fit_prior=True)\n",
      "Score 0.9089471381285101\n",
      "Best Hyper-parameter {'alpha': 1}\n"
     ]
    }
   ],
   "source": [
    "#The Best Hyper-parameter\n",
    "print(grid_model.best_estimator_)\n",
    "print(\"Score\", grid_model.score(X_cv_final, Y_cv))\n",
    "print(\"Best Hyper-parameter\", grid_model.best_params_)"
   ]
  },
  {
   "cell_type": "code",
   "execution_count": 49,
   "metadata": {},
   "outputs": [
    {
     "name": "stdout",
     "output_type": "stream",
     "text": [
      "Executing 1e-05 Roc Train 0.9474072665987384 Roc CV 0.8728441227891811\n",
      "Executing 0.0001 Roc Train 0.9470461825329106 Roc CV 0.8763191810038089\n",
      "Executing 0.001 Roc Train 0.9464913663976166 Roc CV 0.8809136503498354\n",
      "Executing 0.01 Roc Train 0.9456163616007629 Roc CV 0.8886428017691801\n",
      "Executing 0.1 Roc Train 0.9442998973945169 Roc CV 0.901100001818078\n",
      "Executing 1 Roc Train 0.9350783213466167 Roc CV 0.9089471381285101\n",
      "Executing 10 Roc Train 0.6356846488734682 Roc CV 0.630767719166444\n",
      "Executing 100 Roc Train 0.4770108200239434 Roc CV 0.47653821755790143\n",
      "Executing 1000 Roc Train 0.46837509968543134 Roc CV 0.46818149643941986\n",
      "Executing 10000 Roc Train 0.4707463830676 Roc CV 0.467467843792264\n"
     ]
    }
   ],
   "source": [
    "#Cross Validation to find the best alpha value\n",
    "#Iteratively training the Naive Bayes model for alpha \n",
    "x_axis = []\n",
    "y_axis_train = []\n",
    "y_axis_cv = []\n",
    "for a in alpha:\n",
    "    clf = naive_bayes.MultinomialNB(alpha=a, class_prior = [0.5, 0.5])\n",
    "    clf.fit(X_train_final, Y_train)\n",
    "    y_pred = clf.predict_proba(X_train_final)[:,1]\n",
    "    fpr, tpr, _ = roc_curve(Y_train, y_pred)\n",
    "    roc_auc_train = auc(fpr, tpr)\n",
    "    y_pred = clf.predict_proba(X_cv_final)[:,1]\n",
    "    fpr, tpr, _ = roc_curve(Y_cv, y_pred)\n",
    "    roc_auc_cv = auc(fpr, tpr)\n",
    "    x_axis.append(a)\n",
    "    y_axis_train.append(roc_auc_train)\n",
    "    y_axis_cv.append(roc_auc_cv)\n",
    "    print(\"Executing\", a, \"Roc Train\", roc_auc_train, \"Roc CV\", roc_auc_cv)"
   ]
  },
  {
   "cell_type": "code",
   "execution_count": 50,
   "metadata": {},
   "outputs": [
    {
     "data": {
      "image/png": "[encoded data removed]",
      "text/plain": [
       "<Figure size 432x288 with 1 Axes>"
      ]
     },
     "metadata": {
      "needs_background": "light"
     },
     "output_type": "display_data"
    }
   ],
   "source": [
    "#Plotting the hyperparameter Vs AUC for train and cross validation data\n",
    "y_axis_train_log = []\n",
    "y_axis_cv_log = []\n",
    "x_axis_log = []\n",
    "for each in x_axis:\n",
    "    x_axis_log.append(round(log(each, 10)))\n",
    "for each in y_axis_train:\n",
    "    y_axis_train_log.append(log(each, 10))\n",
    "for each in y_axis_cv:\n",
    "    y_axis_cv_log.append(log(each, 10))\n",
    "#Plot between AUC and hyperparameter for Validation data and training data\n",
    "plt.plot(x_axis_log, y_axis_train_log, color='red')\n",
    "plt.plot(x_axis_log, y_axis_cv_log, color='blue')\n",
    "plt.title('plot between AUC value and hyperparameter')\n",
    "blue_patch = mpatches.Patch(color='blue', label='Cross Validation AUC')\n",
    "red_patch = mpatches.Patch(color='red', label='Train AUC')\n",
    "plt.legend(handles=[red_patch, blue_patch], bbox_to_anchor=(1.05, 1), loc=2, borderaxespad=0.)\n",
    "plt.xlabel('Hyper parameter')\n",
    "plt.ylabel('Area Under ROC Curve')\n",
    "plt.show()"
   ]
  },
  {
   "cell_type": "code",
   "execution_count": null,
   "metadata": {},
   "outputs": [],
   "source": [
    "Observation:\n",
    "    In this hyperparameter vs AUC curve, both train and test data have high AUC infact the AUC(with the very \n",
    "less difference as noticeable in the plot) at log(alpha) = 0 which is alpha = 1"
   ]
  },
  {
   "cell_type": "code",
   "execution_count": 51,
   "metadata": {},
   "outputs": [
    {
     "data": {
      "text/plain": [
       "MultinomialNB(alpha=1, class_prior=[0.5, 0.5], fit_prior=True)"
      ]
     },
     "execution_count": 51,
     "metadata": {},
     "output_type": "execute_result"
    }
   ],
   "source": [
    "#Training the Multinomial naive bayes Model with the best hyperparameter\n",
    "model_feat_engg = naive_bayes.MultinomialNB(alpha=1, class_prior = [0.5, 0.5])\n",
    "model_feat_engg .fit(X_train_final, Y_train)"
   ]
  },
  {
   "cell_type": "code",
   "execution_count": 52,
   "metadata": {},
   "outputs": [
    {
     "data": {
      "image/png": "[encoded data removed]",
      "text/plain": [
       "<Figure size 432x288 with 1 Axes>"
      ]
     },
     "metadata": {
      "needs_background": "light"
     },
     "output_type": "display_data"
    }
   ],
   "source": [
    "#Plotting the ROC Curve on both train and test data\n",
    "y_scores = model_feat_engg.predict_proba(X_train_final)\n",
    "y_pred_train = model_feat_engg.predict(X_train_final)\n",
    "train_fpr, train_tpr, threshold = roc_curve(Y_train, y_scores[:, 1])\n",
    "train_roc_auc = auc(train_fpr, train_tpr)\n",
    "\n",
    "plt.title('Receiver Operating Characteristic')\n",
    "plt.plot(train_fpr, train_tpr, color='red')\n",
    "blue_patch = mpatches.Patch(color='blue', label='Test Data ROC Curve')\n",
    "red_patch = mpatches.Patch(color='red', label='Training data ROC Curve')\n",
    "plt.legend(handles=[red_patch, blue_patch], loc = 'lower right')\n",
    "plt.plot([0, 1], [0, 1],'r--')\n",
    "plt.xlim([0, 1])\n",
    "plt.ylim([0, 1])\n",
    "plt.ylabel('True Positive Rate')\n",
    "plt.xlabel('False Positive Rate')\n",
    "plt.title('Train and Test ROC Curve of kNN')\n",
    "\n",
    "y_scores = model_feat_engg.predict_proba(X_test_final)\n",
    "y_pred = model_feat_engg.predict(X_test_final)\n",
    "fpr, tpr, threshold = roc_curve(Y_test, y_scores[:, 1])\n",
    "test_roc_auc = auc(fpr, tpr)\n",
    "plt.plot(fpr, tpr, color='blue')\n",
    "plt.show()"
   ]
  },
  {
   "cell_type": "code",
   "execution_count": 53,
   "metadata": {},
   "outputs": [
    {
     "name": "stdout",
     "output_type": "stream",
     "text": [
      "The AUC of the test data is 0.9055710605742184\n",
      "The AUC of the train data is 0.9350783213466167\n",
      "The confusion matrix, Recall and precision matrix for train data:\n",
      "The confusion matrix, Recall and precision matrix for test data:\n"
     ]
    },
    {
     "data": {
      "image/png": "[encoded data removed]",
      "text/plain": [
       "<Figure size 1440x288 with 6 Axes>"
      ]
     },
     "metadata": {
      "needs_background": "light"
     },
     "output_type": "display_data"
    },
    {
     "data": {
      "image/png": "[encoded data removed]",
      "text/plain": [
       "<Figure size 1440x288 with 6 Axes>"
      ]
     },
     "metadata": {
      "needs_background": "light"
     },
     "output_type": "display_data"
    }
   ],
   "source": [
    "#Test Data AUC Value and Confusion matrix for test data and train data\n",
    "from sklearn.metrics import confusion_matrix\n",
    "from sklearn.metrics import recall_score\n",
    "print(\"The AUC of the test data is\", test_roc_auc)\n",
    "print(\"The AUC of the train data is\", train_roc_auc)\n",
    "print(\"The confusion matrix, Recall and precision matrix for train data:\")\n",
    "print(\"The confusion matrix, Recall and precision matrix for test data:\")\n",
    "plot_confusion_matrix(Y_train, y_pred_train)\n",
    "plot_confusion_matrix(Y_test, y_pred_test)"
   ]
  },
  {
   "cell_type": "markdown",
   "metadata": {
    "colab_type": "text",
    "id": "Dtpj7iMSJkln"
   },
   "source": [
    "### [5.2.1] Top 10 important features of positive class from<font color='red'> SET 2</font>"
   ]
  },
  {
   "cell_type": "code",
   "execution_count": 0,
   "metadata": {
    "colab": {},
    "colab_type": "code",
    "id": "g3flcTmmJklo"
   },
   "outputs": [],
   "source": [
    "# Please write all the code with proper documentation"
   ]
  },
  {
   "cell_type": "code",
   "execution_count": 55,
   "metadata": {},
   "outputs": [
    {
     "name": "stdout",
     "output_type": "stream",
     "text": [
      "Top 10 positive features:\n",
      "lousi\n",
      "greasi\n",
      "goo\n",
      "tassimo\n",
      "lightweight\n",
      "flavacol\n",
      "tbsp\n",
      "coff\n",
      "produc\n",
      "usda\n"
     ]
    }
   ],
   "source": [
    "#https://stackoverflow.com/questions/29867367/sklearn-multinomial-nb-most-informative-features\n",
    "max_ind_pos=np.argsort((model.feature_log_prob_)[1])[::-1][0:10] \n",
    "print(\"Top 10 positive features:\")\n",
    "for each in max_ind_pos:\n",
    "    print(features_list[each-1])"
   ]
  },
  {
   "cell_type": "markdown",
   "metadata": {
    "colab_type": "text",
    "id": "UovIVRyEJklq"
   },
   "source": [
    "### [5.2.2] Top 10 important features of negative class from<font color='red'> SET 2</font>"
   ]
  },
  {
   "cell_type": "code",
   "execution_count": 0,
   "metadata": {
    "colab": {},
    "colab_type": "code",
    "id": "i3i3cShuJklr"
   },
   "outputs": [],
   "source": [
    "# Please write all the code with proper documentation"
   ]
  },
  {
   "cell_type": "code",
   "execution_count": 56,
   "metadata": {},
   "outputs": [
    {
     "name": "stdout",
     "output_type": "stream",
     "text": [
      "Top 10 negative features:\n",
      "tassimo\n",
      "produc\n",
      "lightweight\n",
      "coff\n",
      "worthwhil\n",
      "flavacol\n",
      "omnivor\n",
      "button\n",
      "orchid\n",
      "trend\n"
     ]
    }
   ],
   "source": [
    "# Please write all the code with proper documentation\n",
    "max_ind_neg=np.argsort((model.feature_log_prob_)[0])[::-1][0:10] \n",
    "print(\"Top 10 negative features:\")\n",
    "for each in max_ind_neg:\n",
    "    print(features_list[each-1])"
   ]
  },
  {
   "cell_type": "markdown",
   "metadata": {
    "colab_type": "text",
    "id": "vst5Y7mmJklu"
   },
   "source": [
    "# [6] Conclusions"
   ]
  },
  {
   "cell_type": "code",
   "execution_count": 0,
   "metadata": {
    "colab": {},
    "colab_type": "code",
    "id": "De9HYtIGJklv"
   },
   "outputs": [],
   "source": [
    "# Please compare all your models using Prettytable library"
   ]
  },
  {
   "cell_type": "code",
   "execution_count": 63,
   "metadata": {},
   "outputs": [
    {
     "name": "stdout",
     "output_type": "stream",
     "text": [
      "+------------------------------+-----------------+--------------------+----------------------+-------------------------+\n",
      "|             Type             | Hyper Parameter |      Test AUC      | Recall - class 1 & 2 | Precision - class 1 & 2 |\n",
      "+------------------------------+-----------------+--------------------+----------------------+-------------------------+\n",
      "|          BOW model-          |        10       | 0.8994157654803658 |    [0.736, 0.915]    |      [0.616, 0.949]     |\n",
      "|  without feature engineering |                 |                    |                      |                         |\n",
      "|                              |                 |                    |                      |                         |\n",
      "|          BOW model-          |        10       | 0.8901354228702747 |    [0.691, 0.927]    |      [0.637, 0.942]     |\n",
      "|   with feature engineering   |                 |                    |                      |                         |\n",
      "|                              |                 |                    |                      |                         |\n",
      "|        TF-IDF model-         |        1        | 0.9222197255665165 |    [0.691, 0.927]    |      [0.637, 0.942]     |\n",
      "| without feature engineering  |                 |                    |                      |                         |\n",
      "|                              |                 |                    |                      |                         |\n",
      "|        TF-IDF model-         |        1        | 0.9055710605742184 |    [0.691, 0.927]    |      [0.637, 0.942]     |\n",
      "|   with feature engineering   |                 |                    |                      |                         |\n",
      "|                              |                 |                    |                      |                         |\n",
      "+------------------------------+-----------------+--------------------+----------------------+-------------------------+\n"
     ]
    }
   ],
   "source": [
    "from prettytable import PrettyTable\n",
    "x = PrettyTable()\n",
    "x.field_names = [\"Type\", \"Hyper Parameter\", \"Test AUC\", \"Recall - class 1 & 2\", \"Precision - class 1 & 2\"]\n",
    "x.add_row([\"BOW model-\\n without feature engineering\\n\", 10, 0.8994157654803658 ,[0.736 , 0.915] ,[0.616, 0.949] ] )\n",
    "x.add_row([\"BOW model-\\nwith feature engineering\\n\", 10, 0.8901354228702747 , [0.691 , 0.927], [0.637, 0.942] ] )\n",
    "x.add_row([\"TF-IDF model-\\nwithout feature engineering\\n\", 1, 0.9222197255665165 ,[0.691 , 0.927] ,[0.637, 0.942] ] )\n",
    "x.add_row([\"TF-IDF model-\\nwith feature engineering\\n\", 1, 0.9055710605742184 , [0.691 , 0.927], [0.637, 0.942] ] )\n",
    "print(x)"
   ]
  },
  {
   "cell_type": "markdown",
   "metadata": {},
   "source": [
    "<h6>Final Observation:</h6>\n",
    "<p>\n",
    "1) In naive bayes model trained with BOW based vectorized data, Naive bayes gives a phenomenal auc value for \n",
    "both test and train data.As observed from the above table, it gives a very good 0.915 recall value for class 2 \n",
    "and a little less yet a good recall value of 0.736 for class 2.This very good auc and recall value may be due to \n",
    "naive bayes inherent nature of performing very good in text based classification.A feature engineering is tried \n",
    "to furthur improve the recall rate of class 1\n",
    "</p>\n",
    "<p>\n",
    "2) As noticed from above tabulation, AUC value of test data falls a little bit in the model trained with feature \n",
    "engineered data.Not only the AUC recall value of class 1 reduces a bit while that of class 2 increased a bit.This may \n",
    "have happened because model overfits slightly on feature engineered data and new features are not very useful.\n",
    "Thus feature engineering failed in this case.\n",
    "</p>\n",
    "<p>\n",
    "3)  Naive bayes model based on TF-IDF data performs very good AUC of 0.9222197255665165 which is higher than that of\n",
    "the bow based naive bayes model.but considering recall values of both models, recall values of class 1 falls \n",
    "slightly while that of the class 2 has increased slightly compared to previous model.This may be because the \n",
    "model is slightly overfitting than the previous one.\n",
    "</p>\n",
    "<p>\n",
    "4)Feature engineering on tf-idf data is also not very useful as auc fell from 0.92 to 0.90 in feature engineered data.\n",
    "Thus feature engineering is also not useful here\n",
    "</p>"
   ]
  },
  {
   "cell_type": "markdown",
   "metadata": {},
   "source": [
    "<h6>\n",
    "Final Observation:\n",
    "Naive bayes performs very good in this problem and gives a very good AUC and recall values for both classes.But feature\n",
    "engineering is not very useful as it neither improved AUC and recall values of both the classes\n",
    "</h6>"
   ]
  }
 ],
 "metadata": {
  "colab": {
   "name": "04 Amazon Fine Food Reviews Analysis_NaiveBayes.ipynb",
   "provenance": [],
   "version": "0.3.2"
  },
  "kernelspec": {
   "display_name": "Python 3",
   "language": "python",
   "name": "python3"
  },
  "language_info": {
   "codemirror_mode": {
    "name": "ipython",
    "version": 3
   },
   "file_extension": ".py",
   "mimetype": "text/x-python",
   "name": "python",
   "nbconvert_exporter": "python",
   "pygments_lexer": "ipython3",
   "version": "3.6.6"
  }
 },
 "nbformat": 4,
 "nbformat_minor": 1
}
